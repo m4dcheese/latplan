{
 "cells": [
  {
   "cell_type": "code",
   "execution_count": 1,
   "metadata": {},
   "outputs": [
    {
     "name": "stdout",
     "output_type": "stream",
     "text": [
      "Using device cuda\n",
      "----------------------------------------------------------------\n",
      "        Layer (type)               Output Shape         Param #\n",
      "================================================================\n",
      "            Conv2d-1           [-1, 16, 84, 84]             448\n",
      "              ReLU-2           [-1, 16, 84, 84]               0\n",
      "       BatchNorm2d-3           [-1, 16, 84, 84]              32\n",
      "           Dropout-4           [-1, 16, 84, 84]               0\n",
      "            Conv2d-5           [-1, 16, 84, 84]           2,320\n",
      "              ReLU-6           [-1, 16, 84, 84]               0\n",
      "       BatchNorm2d-7           [-1, 16, 84, 84]              32\n",
      "           Dropout-8           [-1, 16, 84, 84]               0\n",
      "           Flatten-9               [-1, 112896]               0\n",
      "           Linear-10                   [-1, 48]       5,419,056\n",
      "          Encoder-11                   [-1, 48]               0\n",
      "    GumbelSoftmax-12                   [-1, 48]               0\n",
      "           Linear-13                 [-1, 1000]          49,000\n",
      "             ReLU-14                 [-1, 1000]               0\n",
      "      BatchNorm1d-15                 [-1, 1000]           2,000\n",
      "          Dropout-16                 [-1, 1000]               0\n",
      "           Linear-17                 [-1, 1000]       1,001,000\n",
      "             ReLU-18                 [-1, 1000]               0\n",
      "      BatchNorm1d-19                 [-1, 1000]           2,000\n",
      "          Dropout-20                 [-1, 1000]               0\n",
      "           Linear-21                [-1, 21168]      21,189,168\n",
      "          Decoder-22            [-1, 3, 84, 84]               0\n",
      "================================================================\n",
      "Total params: 27,665,056\n",
      "Trainable params: 27,665,056\n",
      "Non-trainable params: 0\n",
      "----------------------------------------------------------------\n",
      "Input size (MB): 0.08\n",
      "Forward/backward pass size (MB): 8.14\n",
      "Params size (MB): 105.53\n",
      "Estimated Total Size (MB): 113.75\n",
      "----------------------------------------------------------------\n",
      "None\n"
     ]
    },
    {
     "name": "stderr",
     "output_type": "stream",
     "text": [
      "0it [00:00, ?it/s]Clipping input data to the valid range for imshow with RGB data ([0..1] for floats or [0..255] for integers).\n",
      "1it [00:00,  5.10it/s]"
     ]
    },
    {
     "name": "stdout",
     "output_type": "stream",
     "text": [
      "Epoch 0 Global Step 0 Train Loss: 0.694670\n"
     ]
    },
    {
     "name": "stderr",
     "output_type": "stream",
     "text": [
      "200it [00:13, 14.82it/s]\n",
      "50it [00:03, 15.02it/s]Clipping input data to the valid range for imshow with RGB data ([0..1] for floats or [0..255] for integers).\n",
      "52it [00:03, 11.77it/s]"
     ]
    },
    {
     "name": "stdout",
     "output_type": "stream",
     "text": [
      "Epoch 1 Global Step 250 Train Loss: 0.654052\n"
     ]
    },
    {
     "name": "stderr",
     "output_type": "stream",
     "text": [
      "200it [00:13, 14.78it/s]\n",
      "100it [00:06, 15.02it/s]Clipping input data to the valid range for imshow with RGB data ([0..1] for floats or [0..255] for integers).\n",
      "102it [00:06, 11.82it/s]"
     ]
    },
    {
     "name": "stdout",
     "output_type": "stream",
     "text": [
      "Epoch 2 Global Step 500 Train Loss: 0.436398\n"
     ]
    },
    {
     "name": "stderr",
     "output_type": "stream",
     "text": [
      "200it [00:13, 14.85it/s]\n",
      "150it [00:10, 14.96it/s]Clipping input data to the valid range for imshow with RGB data ([0..1] for floats or [0..255] for integers).\n",
      "152it [00:10, 11.77it/s]"
     ]
    },
    {
     "name": "stdout",
     "output_type": "stream",
     "text": [
      "Epoch 3 Global Step 750 Train Loss: 0.310149\n"
     ]
    },
    {
     "name": "stderr",
     "output_type": "stream",
     "text": [
      "200it [00:13, 14.87it/s]\n",
      "200it [00:13, 15.00it/s]\n",
      "0it [00:00, ?it/s]Clipping input data to the valid range for imshow with RGB data ([0..1] for floats or [0..255] for integers).\n",
      "1it [00:00,  4.97it/s]"
     ]
    },
    {
     "name": "stdout",
     "output_type": "stream",
     "text": [
      "Epoch 5 Global Step 1000 Train Loss: 0.238130\n"
     ]
    },
    {
     "name": "stderr",
     "output_type": "stream",
     "text": [
      "200it [00:13, 14.86it/s]\n",
      "50it [00:03, 14.99it/s]Clipping input data to the valid range for imshow with RGB data ([0..1] for floats or [0..255] for integers).\n"
     ]
    },
    {
     "name": "stdout",
     "output_type": "stream",
     "text": [
      "Epoch 6 Global Step 1250 Train Loss: 0.148526\n"
     ]
    },
    {
     "name": "stderr",
     "output_type": "stream",
     "text": [
      "200it [00:13, 14.76it/s]\n",
      "100it [00:06, 14.99it/s]Clipping input data to the valid range for imshow with RGB data ([0..1] for floats or [0..255] for integers).\n",
      "102it [00:06, 11.85it/s]"
     ]
    },
    {
     "name": "stdout",
     "output_type": "stream",
     "text": [
      "Epoch 7 Global Step 1500 Train Loss: 0.102183\n"
     ]
    },
    {
     "name": "stderr",
     "output_type": "stream",
     "text": [
      "200it [00:13, 14.87it/s]\n",
      "150it [00:09, 15.01it/s]Clipping input data to the valid range for imshow with RGB data ([0..1] for floats or [0..255] for integers).\n",
      "152it [00:10, 11.74it/s]"
     ]
    },
    {
     "name": "stdout",
     "output_type": "stream",
     "text": [
      "Epoch 8 Global Step 1750 Train Loss: 0.064604\n"
     ]
    },
    {
     "name": "stderr",
     "output_type": "stream",
     "text": [
      "200it [00:13, 14.87it/s]\n",
      "200it [00:13, 15.00it/s]\n",
      "0it [00:00, ?it/s]Clipping input data to the valid range for imshow with RGB data ([0..1] for floats or [0..255] for integers).\n",
      "1it [00:00,  5.22it/s]"
     ]
    },
    {
     "name": "stdout",
     "output_type": "stream",
     "text": [
      "Epoch 10 Global Step 2000 Train Loss: 0.041395\n"
     ]
    },
    {
     "name": "stderr",
     "output_type": "stream",
     "text": [
      "200it [00:13, 14.85it/s]\n",
      "50it [00:03, 15.00it/s]Clipping input data to the valid range for imshow with RGB data ([0..1] for floats or [0..255] for integers).\n"
     ]
    },
    {
     "name": "stdout",
     "output_type": "stream",
     "text": [
      "Epoch 11 Global Step 2250 Train Loss: 0.029175\n"
     ]
    },
    {
     "name": "stderr",
     "output_type": "stream",
     "text": [
      "200it [00:13, 14.76it/s]\n",
      "100it [00:06, 15.03it/s]Clipping input data to the valid range for imshow with RGB data ([0..1] for floats or [0..255] for integers).\n",
      "102it [00:06, 11.89it/s]"
     ]
    },
    {
     "name": "stdout",
     "output_type": "stream",
     "text": [
      "Epoch 12 Global Step 2500 Train Loss: 0.024311\n"
     ]
    },
    {
     "name": "stderr",
     "output_type": "stream",
     "text": [
      "200it [00:13, 14.87it/s]\n",
      "150it [00:10, 15.04it/s]Clipping input data to the valid range for imshow with RGB data ([0..1] for floats or [0..255] for integers).\n",
      "152it [00:10, 12.00it/s]"
     ]
    },
    {
     "name": "stdout",
     "output_type": "stream",
     "text": [
      "Epoch 13 Global Step 2750 Train Loss: 0.021997\n"
     ]
    },
    {
     "name": "stderr",
     "output_type": "stream",
     "text": [
      "200it [00:13, 14.85it/s]\n",
      "200it [00:13, 14.98it/s]\n",
      "0it [00:00, ?it/s]Clipping input data to the valid range for imshow with RGB data ([0..1] for floats or [0..255] for integers).\n",
      "1it [00:00,  5.69it/s]"
     ]
    },
    {
     "name": "stdout",
     "output_type": "stream",
     "text": [
      "Epoch 15 Global Step 3000 Train Loss: 0.018834\n"
     ]
    },
    {
     "name": "stderr",
     "output_type": "stream",
     "text": [
      "200it [00:13, 15.16it/s]\n",
      "50it [00:03, 15.96it/s]Clipping input data to the valid range for imshow with RGB data ([0..1] for floats or [0..255] for integers).\n",
      "52it [00:03, 12.54it/s]"
     ]
    },
    {
     "name": "stdout",
     "output_type": "stream",
     "text": [
      "Epoch 16 Global Step 3250 Train Loss: 0.015510\n"
     ]
    },
    {
     "name": "stderr",
     "output_type": "stream",
     "text": [
      "200it [00:12, 15.75it/s]\n",
      "100it [00:06, 15.92it/s]Clipping input data to the valid range for imshow with RGB data ([0..1] for floats or [0..255] for integers).\n",
      "102it [00:06, 12.67it/s]"
     ]
    },
    {
     "name": "stdout",
     "output_type": "stream",
     "text": [
      "Epoch 17 Global Step 3500 Train Loss: 0.014269\n"
     ]
    },
    {
     "name": "stderr",
     "output_type": "stream",
     "text": [
      "200it [00:12, 15.72it/s]\n",
      "150it [00:09, 15.95it/s]Clipping input data to the valid range for imshow with RGB data ([0..1] for floats or [0..255] for integers).\n",
      "152it [00:09, 12.77it/s]"
     ]
    },
    {
     "name": "stdout",
     "output_type": "stream",
     "text": [
      "Epoch 18 Global Step 3750 Train Loss: 0.012139\n"
     ]
    },
    {
     "name": "stderr",
     "output_type": "stream",
     "text": [
      "200it [00:12, 15.78it/s]\n",
      "200it [00:12, 15.90it/s]\n",
      "0it [00:00, ?it/s]Clipping input data to the valid range for imshow with RGB data ([0..1] for floats or [0..255] for integers).\n",
      "1it [00:00,  5.76it/s]"
     ]
    },
    {
     "name": "stdout",
     "output_type": "stream",
     "text": [
      "Epoch 20 Global Step 4000 Train Loss: 0.011108\n"
     ]
    },
    {
     "name": "stderr",
     "output_type": "stream",
     "text": [
      "200it [00:12, 15.63it/s]\n",
      "50it [00:03, 15.88it/s]Clipping input data to the valid range for imshow with RGB data ([0..1] for floats or [0..255] for integers).\n",
      "52it [00:03, 12.70it/s]"
     ]
    },
    {
     "name": "stdout",
     "output_type": "stream",
     "text": [
      "Epoch 21 Global Step 4250 Train Loss: 0.011135\n"
     ]
    },
    {
     "name": "stderr",
     "output_type": "stream",
     "text": [
      "200it [00:12, 15.72it/s]\n",
      "100it [00:06, 15.84it/s]Clipping input data to the valid range for imshow with RGB data ([0..1] for floats or [0..255] for integers).\n",
      "102it [00:06, 12.33it/s]"
     ]
    },
    {
     "name": "stdout",
     "output_type": "stream",
     "text": [
      "Epoch 22 Global Step 4500 Train Loss: 0.010877\n"
     ]
    },
    {
     "name": "stderr",
     "output_type": "stream",
     "text": [
      "200it [00:12, 15.70it/s]\n",
      "150it [00:09, 15.82it/s]Clipping input data to the valid range for imshow with RGB data ([0..1] for floats or [0..255] for integers).\n",
      "152it [00:09, 12.61it/s]"
     ]
    },
    {
     "name": "stdout",
     "output_type": "stream",
     "text": [
      "Epoch 23 Global Step 4750 Train Loss: 0.011226\n"
     ]
    },
    {
     "name": "stderr",
     "output_type": "stream",
     "text": [
      "200it [00:12, 15.71it/s]\n",
      "200it [00:12, 15.90it/s]\n",
      "0it [00:00, ?it/s]Clipping input data to the valid range for imshow with RGB data ([0..1] for floats or [0..255] for integers).\n",
      "1it [00:00,  3.97it/s]"
     ]
    },
    {
     "name": "stdout",
     "output_type": "stream",
     "text": [
      "Epoch 25 Global Step 5000 Train Loss: 0.011376\n"
     ]
    },
    {
     "name": "stderr",
     "output_type": "stream",
     "text": [
      "200it [00:12, 15.61it/s]\n",
      "50it [00:03, 15.82it/s]Clipping input data to the valid range for imshow with RGB data ([0..1] for floats or [0..255] for integers).\n",
      "52it [00:03, 12.56it/s]"
     ]
    },
    {
     "name": "stdout",
     "output_type": "stream",
     "text": [
      "Epoch 26 Global Step 5250 Train Loss: 0.012291\n"
     ]
    },
    {
     "name": "stderr",
     "output_type": "stream",
     "text": [
      "200it [00:12, 15.70it/s]\n",
      "100it [00:06, 15.92it/s]Clipping input data to the valid range for imshow with RGB data ([0..1] for floats or [0..255] for integers).\n",
      "102it [00:06, 12.42it/s]"
     ]
    },
    {
     "name": "stdout",
     "output_type": "stream",
     "text": [
      "Epoch 27 Global Step 5500 Train Loss: 0.011954\n"
     ]
    },
    {
     "name": "stderr",
     "output_type": "stream",
     "text": [
      "200it [00:12, 15.72it/s]\n",
      "150it [00:09, 15.91it/s]Clipping input data to the valid range for imshow with RGB data ([0..1] for floats or [0..255] for integers).\n",
      "152it [00:09, 12.68it/s]"
     ]
    },
    {
     "name": "stdout",
     "output_type": "stream",
     "text": [
      "Epoch 28 Global Step 5750 Train Loss: 0.012640\n"
     ]
    },
    {
     "name": "stderr",
     "output_type": "stream",
     "text": [
      "200it [00:12, 15.76it/s]\n",
      "200it [00:12, 15.90it/s]\n",
      "0it [00:00, ?it/s]Clipping input data to the valid range for imshow with RGB data ([0..1] for floats or [0..255] for integers).\n",
      "1it [00:00,  3.93it/s]"
     ]
    },
    {
     "name": "stdout",
     "output_type": "stream",
     "text": [
      "Epoch 30 Global Step 6000 Train Loss: 0.014109\n"
     ]
    },
    {
     "name": "stderr",
     "output_type": "stream",
     "text": [
      "200it [00:12, 15.61it/s]\n",
      "50it [00:03, 15.75it/s]Clipping input data to the valid range for imshow with RGB data ([0..1] for floats or [0..255] for integers).\n",
      "52it [00:03, 12.52it/s]"
     ]
    },
    {
     "name": "stdout",
     "output_type": "stream",
     "text": [
      "Epoch 31 Global Step 6250 Train Loss: 0.013585\n"
     ]
    },
    {
     "name": "stderr",
     "output_type": "stream",
     "text": [
      "200it [00:12, 15.69it/s]\n",
      "100it [00:06, 15.88it/s]Clipping input data to the valid range for imshow with RGB data ([0..1] for floats or [0..255] for integers).\n",
      "102it [00:06, 12.70it/s]"
     ]
    },
    {
     "name": "stdout",
     "output_type": "stream",
     "text": [
      "Epoch 32 Global Step 6500 Train Loss: 0.014007\n"
     ]
    },
    {
     "name": "stderr",
     "output_type": "stream",
     "text": [
      "200it [00:12, 15.72it/s]\n",
      "150it [00:09, 15.86it/s]Clipping input data to the valid range for imshow with RGB data ([0..1] for floats or [0..255] for integers).\n",
      "152it [00:09, 12.66it/s]"
     ]
    },
    {
     "name": "stdout",
     "output_type": "stream",
     "text": [
      "Epoch 33 Global Step 6750 Train Loss: 0.015084\n"
     ]
    },
    {
     "name": "stderr",
     "output_type": "stream",
     "text": [
      "200it [00:12, 15.74it/s]\n",
      "200it [00:12, 15.78it/s]\n",
      "0it [00:00, ?it/s]Clipping input data to the valid range for imshow with RGB data ([0..1] for floats or [0..255] for integers).\n",
      "1it [00:00,  5.98it/s]"
     ]
    },
    {
     "name": "stdout",
     "output_type": "stream",
     "text": [
      "Epoch 35 Global Step 7000 Train Loss: 0.014488\n"
     ]
    },
    {
     "name": "stderr",
     "output_type": "stream",
     "text": [
      "200it [00:12, 15.73it/s]\n",
      "50it [00:03, 15.84it/s]Clipping input data to the valid range for imshow with RGB data ([0..1] for floats or [0..255] for integers).\n",
      "52it [00:03, 12.64it/s]"
     ]
    },
    {
     "name": "stdout",
     "output_type": "stream",
     "text": [
      "Epoch 36 Global Step 7250 Train Loss: 0.013745\n"
     ]
    },
    {
     "name": "stderr",
     "output_type": "stream",
     "text": [
      "200it [00:12, 15.73it/s]\n",
      "100it [00:06, 15.98it/s]Clipping input data to the valid range for imshow with RGB data ([0..1] for floats or [0..255] for integers).\n",
      "102it [00:06, 12.74it/s]"
     ]
    },
    {
     "name": "stdout",
     "output_type": "stream",
     "text": [
      "Epoch 37 Global Step 7500 Train Loss: 0.013383\n"
     ]
    },
    {
     "name": "stderr",
     "output_type": "stream",
     "text": [
      "200it [00:12, 15.76it/s]\n",
      "150it [00:09, 15.93it/s]Clipping input data to the valid range for imshow with RGB data ([0..1] for floats or [0..255] for integers).\n",
      "152it [00:09, 12.67it/s]"
     ]
    },
    {
     "name": "stdout",
     "output_type": "stream",
     "text": [
      "Epoch 38 Global Step 7750 Train Loss: 0.014167\n"
     ]
    },
    {
     "name": "stderr",
     "output_type": "stream",
     "text": [
      "200it [00:12, 15.65it/s]\n",
      "200it [00:12, 15.83it/s]\n",
      "0it [00:00, ?it/s]Clipping input data to the valid range for imshow with RGB data ([0..1] for floats or [0..255] for integers).\n",
      "1it [00:00,  5.95it/s]"
     ]
    },
    {
     "name": "stdout",
     "output_type": "stream",
     "text": [
      "Epoch 40 Global Step 8000 Train Loss: 0.013504\n"
     ]
    },
    {
     "name": "stderr",
     "output_type": "stream",
     "text": [
      "200it [00:12, 15.73it/s]\n",
      "50it [00:03, 15.84it/s]Clipping input data to the valid range for imshow with RGB data ([0..1] for floats or [0..255] for integers).\n",
      "52it [00:03, 12.64it/s]"
     ]
    },
    {
     "name": "stdout",
     "output_type": "stream",
     "text": [
      "Epoch 41 Global Step 8250 Train Loss: 0.013166\n"
     ]
    },
    {
     "name": "stderr",
     "output_type": "stream",
     "text": [
      "200it [00:12, 15.73it/s]\n",
      "100it [00:06, 15.88it/s]Clipping input data to the valid range for imshow with RGB data ([0..1] for floats or [0..255] for integers).\n",
      "102it [00:06, 12.75it/s]"
     ]
    },
    {
     "name": "stdout",
     "output_type": "stream",
     "text": [
      "Epoch 42 Global Step 8500 Train Loss: 0.013721\n"
     ]
    },
    {
     "name": "stderr",
     "output_type": "stream",
     "text": [
      "200it [00:12, 15.75it/s]\n",
      "150it [00:09, 15.96it/s]Clipping input data to the valid range for imshow with RGB data ([0..1] for floats or [0..255] for integers).\n"
     ]
    },
    {
     "name": "stdout",
     "output_type": "stream",
     "text": [
      "Epoch 43 Global Step 8750 Train Loss: 0.013387\n"
     ]
    },
    {
     "name": "stderr",
     "output_type": "stream",
     "text": [
      "200it [00:12, 15.66it/s]\n",
      "200it [00:12, 15.86it/s]\n",
      "0it [00:00, ?it/s]Clipping input data to the valid range for imshow with RGB data ([0..1] for floats or [0..255] for integers).\n",
      "1it [00:00,  5.93it/s]"
     ]
    },
    {
     "name": "stdout",
     "output_type": "stream",
     "text": [
      "Epoch 45 Global Step 9000 Train Loss: 0.013518\n"
     ]
    },
    {
     "name": "stderr",
     "output_type": "stream",
     "text": [
      "200it [00:12, 15.76it/s]\n",
      "50it [00:03, 15.85it/s]Clipping input data to the valid range for imshow with RGB data ([0..1] for floats or [0..255] for integers).\n",
      "52it [00:03, 12.41it/s]"
     ]
    },
    {
     "name": "stdout",
     "output_type": "stream",
     "text": [
      "Epoch 46 Global Step 9250 Train Loss: 0.013468\n"
     ]
    },
    {
     "name": "stderr",
     "output_type": "stream",
     "text": [
      "200it [00:12, 15.73it/s]\n",
      "100it [00:06, 15.86it/s]Clipping input data to the valid range for imshow with RGB data ([0..1] for floats or [0..255] for integers).\n",
      "102it [00:06, 12.66it/s]"
     ]
    },
    {
     "name": "stdout",
     "output_type": "stream",
     "text": [
      "Epoch 47 Global Step 9500 Train Loss: 0.013313\n"
     ]
    },
    {
     "name": "stderr",
     "output_type": "stream",
     "text": [
      "200it [00:12, 15.73it/s]\n",
      "150it [00:09, 15.91it/s]Clipping input data to the valid range for imshow with RGB data ([0..1] for floats or [0..255] for integers).\n"
     ]
    },
    {
     "name": "stdout",
     "output_type": "stream",
     "text": [
      "Epoch 48 Global Step 9750 Train Loss: 0.013391\n"
     ]
    },
    {
     "name": "stderr",
     "output_type": "stream",
     "text": [
      "200it [00:12, 15.66it/s]\n",
      "200it [00:12, 15.86it/s]\n",
      "0it [00:00, ?it/s]Clipping input data to the valid range for imshow with RGB data ([0..1] for floats or [0..255] for integers).\n",
      "1it [00:00,  5.66it/s]"
     ]
    },
    {
     "name": "stdout",
     "output_type": "stream",
     "text": [
      "Epoch 50 Global Step 10000 Train Loss: 0.014017\n"
     ]
    },
    {
     "name": "stderr",
     "output_type": "stream",
     "text": [
      "200it [00:12, 15.75it/s]\n",
      "50it [00:03, 15.87it/s]Clipping input data to the valid range for imshow with RGB data ([0..1] for floats or [0..255] for integers).\n",
      "52it [00:03, 12.64it/s]"
     ]
    },
    {
     "name": "stdout",
     "output_type": "stream",
     "text": [
      "Epoch 51 Global Step 10250 Train Loss: 0.012868\n"
     ]
    },
    {
     "name": "stderr",
     "output_type": "stream",
     "text": [
      "200it [00:12, 15.73it/s]\n",
      "100it [00:06, 15.83it/s]Clipping input data to the valid range for imshow with RGB data ([0..1] for floats or [0..255] for integers).\n",
      "102it [00:06, 12.64it/s]"
     ]
    },
    {
     "name": "stdout",
     "output_type": "stream",
     "text": [
      "Epoch 52 Global Step 10500 Train Loss: 0.013779\n"
     ]
    },
    {
     "name": "stderr",
     "output_type": "stream",
     "text": [
      "200it [00:12, 15.71it/s]\n",
      "150it [00:09, 15.84it/s]Clipping input data to the valid range for imshow with RGB data ([0..1] for floats or [0..255] for integers).\n",
      "152it [00:09, 12.70it/s]"
     ]
    },
    {
     "name": "stdout",
     "output_type": "stream",
     "text": [
      "Epoch 53 Global Step 10750 Train Loss: 0.013068\n"
     ]
    },
    {
     "name": "stderr",
     "output_type": "stream",
     "text": [
      "200it [00:12, 15.62it/s]\n",
      "200it [00:12, 15.86it/s]\n",
      "0it [00:00, ?it/s]Clipping input data to the valid range for imshow with RGB data ([0..1] for floats or [0..255] for integers).\n",
      "1it [00:00,  5.89it/s]"
     ]
    },
    {
     "name": "stdout",
     "output_type": "stream",
     "text": [
      "Epoch 55 Global Step 11000 Train Loss: 0.013080\n"
     ]
    },
    {
     "name": "stderr",
     "output_type": "stream",
     "text": [
      "200it [00:12, 15.73it/s]\n",
      "50it [00:03, 15.90it/s]Clipping input data to the valid range for imshow with RGB data ([0..1] for floats or [0..255] for integers).\n",
      "52it [00:03, 12.72it/s]"
     ]
    },
    {
     "name": "stdout",
     "output_type": "stream",
     "text": [
      "Epoch 56 Global Step 11250 Train Loss: 0.013648\n"
     ]
    },
    {
     "name": "stderr",
     "output_type": "stream",
     "text": [
      "200it [00:12, 15.75it/s]\n",
      "100it [00:06, 15.87it/s]Clipping input data to the valid range for imshow with RGB data ([0..1] for floats or [0..255] for integers).\n",
      "102it [00:06, 12.67it/s]"
     ]
    },
    {
     "name": "stdout",
     "output_type": "stream",
     "text": [
      "Epoch 57 Global Step 11500 Train Loss: 0.014235\n"
     ]
    },
    {
     "name": "stderr",
     "output_type": "stream",
     "text": [
      "200it [00:12, 15.65it/s]\n",
      "150it [00:09, 15.87it/s]Clipping input data to the valid range for imshow with RGB data ([0..1] for floats or [0..255] for integers).\n",
      "152it [00:09, 12.62it/s]"
     ]
    },
    {
     "name": "stdout",
     "output_type": "stream",
     "text": [
      "Epoch 58 Global Step 11750 Train Loss: 0.013336\n"
     ]
    },
    {
     "name": "stderr",
     "output_type": "stream",
     "text": [
      "200it [00:12, 15.74it/s]\n",
      "200it [00:12, 15.88it/s]\n",
      "0it [00:00, ?it/s]Clipping input data to the valid range for imshow with RGB data ([0..1] for floats or [0..255] for integers).\n",
      "1it [00:00,  5.85it/s]"
     ]
    },
    {
     "name": "stdout",
     "output_type": "stream",
     "text": [
      "Epoch 60 Global Step 12000 Train Loss: 0.013947\n"
     ]
    },
    {
     "name": "stderr",
     "output_type": "stream",
     "text": [
      "200it [00:12, 15.72it/s]\n",
      "50it [00:03, 15.86it/s]Clipping input data to the valid range for imshow with RGB data ([0..1] for floats or [0..255] for integers).\n",
      "52it [00:03, 12.70it/s]"
     ]
    },
    {
     "name": "stdout",
     "output_type": "stream",
     "text": [
      "Epoch 61 Global Step 12250 Train Loss: 0.013634\n"
     ]
    },
    {
     "name": "stderr",
     "output_type": "stream",
     "text": [
      "200it [00:12, 15.75it/s]\n",
      "100it [00:06, 15.83it/s]Clipping input data to the valid range for imshow with RGB data ([0..1] for floats or [0..255] for integers).\n"
     ]
    },
    {
     "name": "stdout",
     "output_type": "stream",
     "text": [
      "Epoch 62 Global Step 12500 Train Loss: 0.013283\n"
     ]
    },
    {
     "name": "stderr",
     "output_type": "stream",
     "text": [
      "200it [00:12, 15.65it/s]\n",
      "150it [00:09, 15.91it/s]Clipping input data to the valid range for imshow with RGB data ([0..1] for floats or [0..255] for integers).\n",
      "152it [00:09, 12.68it/s]"
     ]
    },
    {
     "name": "stdout",
     "output_type": "stream",
     "text": [
      "Epoch 63 Global Step 12750 Train Loss: 0.013475\n"
     ]
    },
    {
     "name": "stderr",
     "output_type": "stream",
     "text": [
      "200it [00:12, 15.78it/s]\n",
      "200it [00:12, 15.92it/s]\n",
      "0it [00:00, ?it/s]Clipping input data to the valid range for imshow with RGB data ([0..1] for floats or [0..255] for integers).\n",
      "1it [00:00,  5.80it/s]"
     ]
    },
    {
     "name": "stdout",
     "output_type": "stream",
     "text": [
      "Epoch 65 Global Step 13000 Train Loss: 0.012859\n"
     ]
    },
    {
     "name": "stderr",
     "output_type": "stream",
     "text": [
      "200it [00:12, 15.73it/s]\n",
      "50it [00:03, 15.88it/s]Clipping input data to the valid range for imshow with RGB data ([0..1] for floats or [0..255] for integers).\n",
      "52it [00:03, 12.66it/s]"
     ]
    },
    {
     "name": "stdout",
     "output_type": "stream",
     "text": [
      "Epoch 66 Global Step 13250 Train Loss: 0.013419\n"
     ]
    },
    {
     "name": "stderr",
     "output_type": "stream",
     "text": [
      "200it [00:12, 15.76it/s]\n",
      "100it [00:06, 15.90it/s]Clipping input data to the valid range for imshow with RGB data ([0..1] for floats or [0..255] for integers).\n"
     ]
    },
    {
     "name": "stdout",
     "output_type": "stream",
     "text": [
      "Epoch 67 Global Step 13500 Train Loss: 0.013001\n"
     ]
    },
    {
     "name": "stderr",
     "output_type": "stream",
     "text": [
      "200it [00:12, 15.67it/s]\n",
      "150it [00:09, 15.76it/s]Clipping input data to the valid range for imshow with RGB data ([0..1] for floats or [0..255] for integers).\n",
      "152it [00:09, 12.57it/s]"
     ]
    },
    {
     "name": "stdout",
     "output_type": "stream",
     "text": [
      "Epoch 68 Global Step 13750 Train Loss: 0.013244\n"
     ]
    },
    {
     "name": "stderr",
     "output_type": "stream",
     "text": [
      "200it [00:12, 15.77it/s]\n",
      "200it [00:12, 15.96it/s]\n",
      "0it [00:00, ?it/s]Clipping input data to the valid range for imshow with RGB data ([0..1] for floats or [0..255] for integers).\n",
      "1it [00:00,  6.04it/s]"
     ]
    },
    {
     "name": "stdout",
     "output_type": "stream",
     "text": [
      "Epoch 70 Global Step 14000 Train Loss: 0.012916\n"
     ]
    },
    {
     "name": "stderr",
     "output_type": "stream",
     "text": [
      "200it [00:12, 15.80it/s]\n",
      "50it [00:03, 15.90it/s]Clipping input data to the valid range for imshow with RGB data ([0..1] for floats or [0..255] for integers).\n",
      "52it [00:03, 12.77it/s]"
     ]
    },
    {
     "name": "stdout",
     "output_type": "stream",
     "text": [
      "Epoch 71 Global Step 14250 Train Loss: 0.012267\n"
     ]
    },
    {
     "name": "stderr",
     "output_type": "stream",
     "text": [
      "200it [00:12, 15.77it/s]\n",
      "100it [00:06, 15.71it/s]Clipping input data to the valid range for imshow with RGB data ([0..1] for floats or [0..255] for integers).\n",
      "102it [00:06, 12.11it/s]"
     ]
    },
    {
     "name": "stdout",
     "output_type": "stream",
     "text": [
      "Epoch 72 Global Step 14500 Train Loss: 0.012903\n"
     ]
    },
    {
     "name": "stderr",
     "output_type": "stream",
     "text": [
      "200it [00:12, 15.61it/s]\n",
      "150it [00:09, 15.87it/s]Clipping input data to the valid range for imshow with RGB data ([0..1] for floats or [0..255] for integers).\n",
      "152it [00:09, 12.71it/s]"
     ]
    },
    {
     "name": "stdout",
     "output_type": "stream",
     "text": [
      "Epoch 73 Global Step 14750 Train Loss: 0.012357\n"
     ]
    },
    {
     "name": "stderr",
     "output_type": "stream",
     "text": [
      "200it [00:12, 15.74it/s]\n",
      "200it [00:12, 15.87it/s]\n",
      "0it [00:00, ?it/s]Clipping input data to the valid range for imshow with RGB data ([0..1] for floats or [0..255] for integers).\n",
      "1it [00:00,  5.74it/s]"
     ]
    },
    {
     "name": "stdout",
     "output_type": "stream",
     "text": [
      "Epoch 75 Global Step 15000 Train Loss: 0.012652\n"
     ]
    },
    {
     "name": "stderr",
     "output_type": "stream",
     "text": [
      "200it [00:12, 15.71it/s]\n",
      "50it [00:03, 15.82it/s]Clipping input data to the valid range for imshow with RGB data ([0..1] for floats or [0..255] for integers).\n",
      "52it [00:03, 12.58it/s]"
     ]
    },
    {
     "name": "stdout",
     "output_type": "stream",
     "text": [
      "Epoch 76 Global Step 15250 Train Loss: 0.012021\n"
     ]
    },
    {
     "name": "stderr",
     "output_type": "stream",
     "text": [
      "200it [00:12, 15.62it/s]\n",
      "100it [00:06, 15.80it/s]Clipping input data to the valid range for imshow with RGB data ([0..1] for floats or [0..255] for integers).\n",
      "102it [00:06, 12.37it/s]"
     ]
    },
    {
     "name": "stdout",
     "output_type": "stream",
     "text": [
      "Epoch 77 Global Step 15500 Train Loss: 0.012653\n"
     ]
    },
    {
     "name": "stderr",
     "output_type": "stream",
     "text": [
      "200it [00:12, 15.69it/s]\n",
      "150it [00:09, 15.93it/s]Clipping input data to the valid range for imshow with RGB data ([0..1] for floats or [0..255] for integers).\n",
      "152it [00:09, 12.71it/s]"
     ]
    },
    {
     "name": "stdout",
     "output_type": "stream",
     "text": [
      "Epoch 78 Global Step 15750 Train Loss: 0.012172\n"
     ]
    },
    {
     "name": "stderr",
     "output_type": "stream",
     "text": [
      "200it [00:12, 15.75it/s]\n",
      "200it [00:12, 15.89it/s]\n",
      "0it [00:00, ?it/s]Clipping input data to the valid range for imshow with RGB data ([0..1] for floats or [0..255] for integers).\n",
      "1it [00:00,  5.96it/s]"
     ]
    },
    {
     "name": "stdout",
     "output_type": "stream",
     "text": [
      "Epoch 80 Global Step 16000 Train Loss: 0.012203\n"
     ]
    },
    {
     "name": "stderr",
     "output_type": "stream",
     "text": [
      "200it [00:12, 15.73it/s]\n",
      "50it [00:03, 15.86it/s]Clipping input data to the valid range for imshow with RGB data ([0..1] for floats or [0..255] for integers).\n"
     ]
    },
    {
     "name": "stdout",
     "output_type": "stream",
     "text": [
      "Epoch 81 Global Step 16250 Train Loss: 0.011593\n"
     ]
    },
    {
     "name": "stderr",
     "output_type": "stream",
     "text": [
      "200it [00:12, 15.62it/s]\n",
      "100it [00:06, 15.88it/s]Clipping input data to the valid range for imshow with RGB data ([0..1] for floats or [0..255] for integers).\n",
      "102it [00:06, 12.59it/s]"
     ]
    },
    {
     "name": "stdout",
     "output_type": "stream",
     "text": [
      "Epoch 82 Global Step 16500 Train Loss: 0.012280\n"
     ]
    },
    {
     "name": "stderr",
     "output_type": "stream",
     "text": [
      "200it [00:12, 15.71it/s]\n",
      "150it [00:09, 15.92it/s]Clipping input data to the valid range for imshow with RGB data ([0..1] for floats or [0..255] for integers).\n",
      "152it [00:09, 12.69it/s]"
     ]
    },
    {
     "name": "stdout",
     "output_type": "stream",
     "text": [
      "Epoch 83 Global Step 16750 Train Loss: 0.012477\n"
     ]
    },
    {
     "name": "stderr",
     "output_type": "stream",
     "text": [
      "200it [00:12, 15.75it/s]\n",
      "200it [00:12, 15.91it/s]\n",
      "0it [00:00, ?it/s]Clipping input data to the valid range for imshow with RGB data ([0..1] for floats or [0..255] for integers).\n",
      "1it [00:00,  6.00it/s]"
     ]
    },
    {
     "name": "stdout",
     "output_type": "stream",
     "text": [
      "Epoch 85 Global Step 17000 Train Loss: 0.012151\n"
     ]
    },
    {
     "name": "stderr",
     "output_type": "stream",
     "text": [
      "200it [00:12, 15.78it/s]\n",
      "50it [00:03, 15.91it/s]Clipping input data to the valid range for imshow with RGB data ([0..1] for floats or [0..255] for integers).\n"
     ]
    },
    {
     "name": "stdout",
     "output_type": "stream",
     "text": [
      "Epoch 86 Global Step 17250 Train Loss: 0.011861\n"
     ]
    },
    {
     "name": "stderr",
     "output_type": "stream",
     "text": [
      "200it [00:12, 15.63it/s]\n",
      "100it [00:06, 15.84it/s]Clipping input data to the valid range for imshow with RGB data ([0..1] for floats or [0..255] for integers).\n",
      "102it [00:06, 12.69it/s]"
     ]
    },
    {
     "name": "stdout",
     "output_type": "stream",
     "text": [
      "Epoch 87 Global Step 17500 Train Loss: 0.011705\n"
     ]
    },
    {
     "name": "stderr",
     "output_type": "stream",
     "text": [
      "200it [00:12, 15.70it/s]\n",
      "150it [00:09, 15.88it/s]Clipping input data to the valid range for imshow with RGB data ([0..1] for floats or [0..255] for integers).\n",
      "152it [00:09, 12.64it/s]"
     ]
    },
    {
     "name": "stdout",
     "output_type": "stream",
     "text": [
      "Epoch 88 Global Step 17750 Train Loss: 0.012407\n"
     ]
    },
    {
     "name": "stderr",
     "output_type": "stream",
     "text": [
      "200it [00:12, 15.73it/s]\n",
      "200it [00:12, 15.85it/s]\n",
      "0it [00:00, ?it/s]Clipping input data to the valid range for imshow with RGB data ([0..1] for floats or [0..255] for integers).\n",
      "1it [00:00,  5.41it/s]"
     ]
    },
    {
     "name": "stdout",
     "output_type": "stream",
     "text": [
      "Epoch 90 Global Step 18000 Train Loss: 0.012073\n"
     ]
    },
    {
     "name": "stderr",
     "output_type": "stream",
     "text": [
      "200it [00:12, 15.62it/s]\n",
      "50it [00:03, 15.85it/s]Clipping input data to the valid range for imshow with RGB data ([0..1] for floats or [0..255] for integers).\n",
      "52it [00:03, 12.52it/s]"
     ]
    },
    {
     "name": "stdout",
     "output_type": "stream",
     "text": [
      "Epoch 91 Global Step 18250 Train Loss: 0.012185\n"
     ]
    },
    {
     "name": "stderr",
     "output_type": "stream",
     "text": [
      "200it [00:12, 15.69it/s]\n",
      "100it [00:06, 15.82it/s]Clipping input data to the valid range for imshow with RGB data ([0..1] for floats or [0..255] for integers).\n",
      "102it [00:06, 12.65it/s]"
     ]
    },
    {
     "name": "stdout",
     "output_type": "stream",
     "text": [
      "Epoch 92 Global Step 18500 Train Loss: 0.011409\n"
     ]
    },
    {
     "name": "stderr",
     "output_type": "stream",
     "text": [
      "200it [00:12, 15.71it/s]\n",
      "150it [00:09, 15.90it/s]Clipping input data to the valid range for imshow with RGB data ([0..1] for floats or [0..255] for integers).\n",
      "152it [00:09, 12.47it/s]"
     ]
    },
    {
     "name": "stdout",
     "output_type": "stream",
     "text": [
      "Epoch 93 Global Step 18750 Train Loss: 0.012952\n"
     ]
    },
    {
     "name": "stderr",
     "output_type": "stream",
     "text": [
      "200it [00:12, 15.69it/s]\n",
      "200it [00:12, 15.84it/s]\n",
      "0it [00:00, ?it/s]Clipping input data to the valid range for imshow with RGB data ([0..1] for floats or [0..255] for integers).\n",
      "1it [00:00,  5.95it/s]"
     ]
    },
    {
     "name": "stdout",
     "output_type": "stream",
     "text": [
      "Epoch 95 Global Step 19000 Train Loss: 0.012180\n"
     ]
    },
    {
     "name": "stderr",
     "output_type": "stream",
     "text": [
      "200it [00:12, 15.66it/s]\n",
      "50it [00:03, 15.94it/s]Clipping input data to the valid range for imshow with RGB data ([0..1] for floats or [0..255] for integers).\n",
      "52it [00:03, 12.61it/s]"
     ]
    },
    {
     "name": "stdout",
     "output_type": "stream",
     "text": [
      "Epoch 96 Global Step 19250 Train Loss: 0.011985\n"
     ]
    },
    {
     "name": "stderr",
     "output_type": "stream",
     "text": [
      "200it [00:12, 15.74it/s]\n",
      "100it [00:06, 15.85it/s]Clipping input data to the valid range for imshow with RGB data ([0..1] for floats or [0..255] for integers).\n",
      "102it [00:06, 12.71it/s]"
     ]
    },
    {
     "name": "stdout",
     "output_type": "stream",
     "text": [
      "Epoch 97 Global Step 19500 Train Loss: 0.012185\n"
     ]
    },
    {
     "name": "stderr",
     "output_type": "stream",
     "text": [
      "200it [00:12, 15.71it/s]\n",
      "150it [00:09, 15.84it/s]Clipping input data to the valid range for imshow with RGB data ([0..1] for floats or [0..255] for integers).\n",
      "152it [00:09, 12.70it/s]"
     ]
    },
    {
     "name": "stdout",
     "output_type": "stream",
     "text": [
      "Epoch 98 Global Step 19750 Train Loss: 0.011703\n"
     ]
    },
    {
     "name": "stderr",
     "output_type": "stream",
     "text": [
      "200it [00:12, 15.73it/s]\n",
      "200it [00:12, 15.90it/s]\n"
     ]
    }
   ],
   "source": [
    "from train import train\n",
    "train_loss, losses, model = train()"
   ]
  },
  {
   "cell_type": "code",
   "execution_count": null,
   "metadata": {},
   "outputs": [
    {
     "name": "stderr",
     "output_type": "stream",
     "text": [
      "Clipping input data to the valid range for imshow with RGB data ([0..1] for floats or [0..255] for integers).\n",
      "Clipping input data to the valid range for imshow with RGB data ([0..1] for floats or [0..255] for integers).\n",
      "Clipping input data to the valid range for imshow with RGB data ([0..1] for floats or [0..255] for integers).\n",
      "Clipping input data to the valid range for imshow with RGB data ([0..1] for floats or [0..255] for integers).\n"
     ]
    },
    {
     "data": {
      "image/png": "[encoded data removed]",
      "text/plain": [
       "<Figure size 432x288 with 3 Axes>"
      ]
     },
     "metadata": {
      "needs_background": "light"
     },
     "output_type": "display_data"
    },
    {
     "data": {
      "text/plain": [
       "<Figure size 432x288 with 0 Axes>"
      ]
     },
     "metadata": {},
     "output_type": "display_data"
    },
    {
     "data": {
      "image/png": "[encoded data removed]",
      "text/plain": [
       "<Figure size 432x288 with 3 Axes>"
      ]
     },
     "metadata": {
      "needs_background": "light"
     },
     "output_type": "display_data"
    },
    {
     "data": {
      "text/plain": [
       "<Figure size 432x288 with 0 Axes>"
      ]
     },
     "metadata": {},
     "output_type": "display_data"
    }
   ],
   "source": [
    "%matplotlib inline\n",
    "from data import get_loader\n",
    "import torch\n",
    "import numpy as np\n",
    "import matplotlib.pyplot as plt\n",
    "loader = get_loader(total_samples=2, dataset=\"color_shapes\", blur=.8, deletions=0, batch_size=1)\n",
    "for iter, x in enumerate(loader):\n",
    "    x = x.to(torch.device(\"cuda\"))\n",
    "    model.eval()\n",
    "    encoded = model.encoder(x)\n",
    "    discrete = model.activation(encoded, 1000)\n",
    "    decoded_true = model.decoder(discrete)\n",
    "    change_index = np.array([0])\n",
    "    change_index_inverse = change_index + 1 - 2 * (change_index % 2)\n",
    "    change_index = np.concatenate([change_index, change_index_inverse])\n",
    "    discrete[0][change_index] = 1 - discrete[0][change_index]\n",
    "    decoded = model.decoder(discrete)\n",
    "\n",
    "    x = torch.permute(x, (0,2,3,1))\n",
    "    decoded = torch.permute(decoded, (0,2,3,1))\n",
    "    decoded_true = torch.permute(decoded_true, (0,2,3,1))\n",
    "\n",
    "    from util import show_mnist_images\n",
    "    fig, axes = plt.subplots(nrows=1, ncols=3)\n",
    "    axes[0].imshow(x.cpu().detach().numpy()[0])\n",
    "    axes[1].imshow(decoded_true.cpu().detach().numpy()[0])\n",
    "    axes[2].imshow(decoded.cpu().detach().numpy()[0])\n",
    "    plt.figure()\n",
    "# discrete"
   ]
  },
  {
   "cell_type": "code",
   "execution_count": 2,
   "metadata": {},
   "outputs": [
    {
     "name": "stderr",
     "output_type": "stream",
     "text": [
      "Clipping input data to the valid range for imshow with RGB data ([0..1] for floats or [0..255] for integers).\n",
      "Clipping input data to the valid range for imshow with RGB data ([0..1] for floats or [0..255] for integers).\n",
      "Clipping input data to the valid range for imshow with RGB data ([0..1] for floats or [0..255] for integers).\n",
      "Clipping input data to the valid range for imshow with RGB data ([0..1] for floats or [0..255] for integers).\n"
     ]
    },
    {
     "name": "stdout",
     "output_type": "stream",
     "text": [
      "[0 1]\n",
      "[0 1]\n"
     ]
    }
   ],
   "source": [
    "%matplotlib inline\n",
    "from data import get_loader\n",
    "import torch\n",
    "import numpy as np\n",
    "import matplotlib.pyplot as plt\n",
    "loader = get_loader(total_samples=2, dataset=\"color_shapes\", blur=.8, deletions=0, batch_size=1)\n",
    "for iter, x in enumerate(loader):\n",
    "    x = x.to(torch.device(\"cuda\"))\n",
    "    model.eval()\n",
    "    encoded = model.encoder(x)\n",
    "    discrete = model.activation(encoded, 1000)\n",
    "    decoded_true = model.decoder(discrete)\n",
    "    change_index = np.array([0])\n",
    "    change_index_inverse = change_index + 1 - 2 * (change_index % 2)\n",
    "    change_index = np.concatenate([change_index, change_index_inverse])\n",
    "    print(change_index)\n",
    "    discrete[0][change_index] = 1 - discrete[0][change_index]\n",
    "    decoded = model.decoder(discrete)\n",
    "\n",
    "    x = torch.permute(x, (0,2,3,1))\n",
    "    decoded = torch.permute(decoded, (0,2,3,1))\n",
    "    decoded_true = torch.permute(decoded_true, (0,2,3,1))\n",
    "\n",
    "    from util import show_mnist_images\n",
    "    fig, axes = plt.subplots(nrows=1, ncols=3)\n",
    "    axes[0].imshow(x.cpu().detach().numpy()[0])\n",
    "    axes[1].imshow(decoded_true.cpu().detach().numpy()[0])\n",
    "    axes[2].imshow(decoded.cpu().detach().numpy()[0])\n",
    "    plt.figure()\n",
    "# discrete"
   ]
  },
  {
   "cell_type": "code",
   "execution_count": 2,
   "metadata": {},
   "outputs": [
    {
     "data": {
      "image/png": "[encoded data removed]",
      "text/plain": [
       "<Figure size 432x288 with 1 Axes>"
      ]
     },
     "metadata": {
      "needs_background": "light"
     },
     "output_type": "display_data"
    },
    {
     "data": {
      "image/png": "[encoded data removed]",
      "text/plain": [
       "<Figure size 432x288 with 1 Axes>"
      ]
     },
     "metadata": {
      "needs_background": "light"
     },
     "output_type": "display_data"
    },
    {
     "data": {
      "text/plain": [
       "tensor([[1., 0., 0., 1., 1., 0., 0., 1., 0., 1., 0., 1., 1., 0., 0., 1., 1., 0.,\n",
       "         0., 1., 0., 1., 1., 0., 1., 0., 1., 0., 0., 1., 1., 0., 1., 0., 1., 0.,\n",
       "         0., 1., 1., 0., 1., 0., 0., 1., 1., 0., 1., 0., 1., 0., 0., 1., 0., 1.,\n",
       "         1., 0., 0., 1., 0., 1., 1., 0., 0., 1., 1., 0., 0., 1., 1., 0., 1., 0.]],\n",
       "       device='cuda:0', grad_fn=<ReshapeAliasBackward0>)"
      ]
     },
     "execution_count": 2,
     "metadata": {},
     "output_type": "execute_result"
    }
   ],
   "source": [
    "from data import get_loader\n",
    "import torch\n",
    "import numpy as np\n",
    "loader = get_loader(total_samples=1)\n",
    "iter, x = list(enumerate(loader))[0]\n",
    "x = x.to(torch.device(\"cuda\"))\n",
    "model.eval()\n",
    "encoded = model.encoder(x)\n",
    "discrete = model.activation(encoded, 1000)\n",
    "decoded = model.decoder(discrete)\n",
    "\n",
    "from util import show_mnist_images\n",
    "\n",
    "show_mnist_images(x.cpu().detach().numpy()[0])\n",
    "show_mnist_images(decoded.cpu().detach().numpy()[0])\n",
    "discrete\n"
   ]
  },
  {
   "cell_type": "code",
   "execution_count": 59,
   "metadata": {},
   "outputs": [
    {
     "name": "stdout",
     "output_type": "stream",
     "text": [
      "tensor([[[4., 6.],\n",
      "         [4., 6.],\n",
      "         [4., 6.],\n",
      "         ...,\n",
      "         [4., 6.],\n",
      "         [4., 6.],\n",
      "         [4., 6.]],\n",
      "\n",
      "        [[4., 6.],\n",
      "         [4., 6.],\n",
      "         [4., 6.],\n",
      "         ...,\n",
      "         [4., 6.],\n",
      "         [4., 6.],\n",
      "         [4., 6.]]])\n",
      "tensor([[[0.1192, 0.8808],\n",
      "         [0.1192, 0.8808],\n",
      "         [0.1192, 0.8808],\n",
      "         ...,\n",
      "         [0.1192, 0.8808],\n",
      "         [0.1192, 0.8808],\n",
      "         [0.1192, 0.8808]],\n",
      "\n",
      "        [[0.1192, 0.8808],\n",
      "         [0.1192, 0.8808],\n",
      "         [0.1192, 0.8808],\n",
      "         ...,\n",
      "         [0.1192, 0.8808],\n",
      "         [0.1192, 0.8808],\n",
      "         [0.1192, 0.8808]]])\n",
      "tensor([[[-2.1269, -0.1269],\n",
      "         [-2.1269, -0.1269],\n",
      "         [-2.1269, -0.1269],\n",
      "         ...,\n",
      "         [-2.1269, -0.1269],\n",
      "         [-2.1269, -0.1269],\n",
      "         [-2.1269, -0.1269]],\n",
      "\n",
      "        [[-2.1269, -0.1269],\n",
      "         [-2.1269, -0.1269],\n",
      "         [-2.1269, -0.1269],\n",
      "         ...,\n",
      "         [-2.1269, -0.1269],\n",
      "         [-2.1269, -0.1269],\n",
      "         [-2.1269, -0.1269]]])\n",
      "tensor([[[-0.0209,  0.0190],\n",
      "         [-0.0209,  0.0190],\n",
      "         [-0.0209,  0.0190],\n",
      "         ...,\n",
      "         [-0.0209,  0.0190],\n",
      "         [-0.0209,  0.0190],\n",
      "         [-0.0209,  0.0190]],\n",
      "\n",
      "        [[-0.0209,  0.0190],\n",
      "         [-0.0209,  0.0190],\n",
      "         [-0.0209,  0.0190],\n",
      "         ...,\n",
      "         [-0.0209,  0.0190],\n",
      "         [-0.0209,  0.0190],\n",
      "         [-0.0209,  0.0190]]])\n",
      "tensor([-1.9422, -1.9422])\n"
     ]
    },
    {
     "data": {
      "text/plain": [
       "tensor(-1.9422)"
      ]
     },
     "execution_count": 59,
     "metadata": {},
     "output_type": "execute_result"
    }
   ],
   "source": [
    "import torch\n",
    "from loss import gs_loss\n",
    "\n",
    "eps = 1e-8\n",
    "p = 4.\n",
    "p_target = .1\n",
    "\n",
    "logits = torch.rand((2, 2000))\n",
    "logits[1:, ::2] = logits[1:, ::2] * torch.randint_like(logits[1:, ::2], 1, 5)\n",
    "\n",
    "var_true = torch.full((2, 1000, 1), p)\n",
    "var_false = 10 - var_true\n",
    "var = torch.concat([var_true, var_false], dim=2)\n",
    "var = torch.reshape(var, (2, 2000))\n",
    "gs_loss(var, p=p_target, print_out=True)"
   ]
  }
 ],
 "metadata": {
  "interpreter": {
   "hash": "e926bc823418c448474a8974b2c2aa4c0f7ebfb59bb98328b5791be7eb5e18cd"
  },
  "kernelspec": {
   "display_name": "Python 3.8.12 64-bit ('latplan': conda)",
   "language": "python",
   "name": "python3"
  },
  "language_info": {
   "codemirror_mode": {
    "name": "ipython",
    "version": 3
   },
   "file_extension": ".py",
   "mimetype": "text/x-python",
   "name": "python",
   "nbconvert_exporter": "python",
   "pygments_lexer": "ipython3",
   "version": "3.8.12"
  },
  "orig_nbformat": 4
 },
 "nbformat": 4,
 "nbformat_minor": 2
}
