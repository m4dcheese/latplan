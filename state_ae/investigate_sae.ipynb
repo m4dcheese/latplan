{
 "cells": [
  {
   "cell_type": "code",
   "execution_count": 1,
   "metadata": {},
   "outputs": [],
   "source": [
    "import torch\n",
    "loaded = torch.load(\"/home/madcheese/logs/2022-03-05_17:01:44\")\n"
   ]
  },
  {
   "cell_type": "code",
   "execution_count": 2,
   "metadata": {},
   "outputs": [],
   "source": [
    "from model import StateAE\n",
    "from parameters import parameters\n",
    "\n",
    "net = StateAE(\n",
    "    device=f\"cuda:{parameters.device_ids[0]}\"\n",
    ")\n",
    "\n",
    "net.load_state_dict(loaded[\"weights\"], strict=False)\n",
    "model=net.to(f\"cuda:{parameters.device_ids[0]}\")\n",
    "\n"
   ]
  },
  {
   "cell_type": "code",
   "execution_count": 3,
   "metadata": {},
   "outputs": [
    {
     "name": "stderr",
     "output_type": "stream",
     "text": [
      "10it [00:06,  1.62it/s]\n"
     ]
    },
    {
     "data": {
      "text/plain": [
       "{'bit_variance': array(0., dtype=float32),\n",
       " 'discrete_usage': tensor([  0., 225.,   0.,   0.,   0.,   0.,   0.,   0., 237.,   0.,   0.,   0.,\n",
       "           0., 306.,   0., 432., 221., 203., 213., 108.,   0., 363.,   0., 216.,\n",
       "         334.,   0., 780., 458., 330., 337.,   0., 324.,   0., 225., 685.,   0.,\n",
       "           0.,   0.,   0., 114.,   0., 233., 349.,   0., 207., 114.,   0., 462.,\n",
       "         647.,   0., 215.,   0.,   0., 320.,   0.,   0., 342.,   0.,   0.,   0.,\n",
       "           0., 242., 221.,   0., 331.,   0., 128.,   0.,   0., 232., 212.,   0.,\n",
       "           0., 113., 214.,   0., 438.,   0.,   0.,   0., 185., 220.,  94., 639.,\n",
       "           0., 326.,   0.,   0.,   0.,   0., 773.,   0., 454., 219., 210.,   0.,\n",
       "           0., 231.,   0., 327.])}"
      ]
     },
     "execution_count": 3,
     "metadata": {},
     "output_type": "execute_result"
    }
   ],
   "source": [
    "%matplotlib inline\n",
    "from metrics import evaluate_sae\n",
    "model.eval()\n",
    "with torch.no_grad():\n",
    "    metrics = evaluate_sae(model, samples=1000)\n",
    "\n",
    "metrics"
   ]
  },
  {
   "cell_type": "code",
   "execution_count": 4,
   "metadata": {},
   "outputs": [
    {
     "data": {
      "text/plain": [
       "48"
      ]
     },
     "execution_count": 4,
     "metadata": {},
     "output_type": "execute_result"
    }
   ],
   "source": [
    "du = metrics[\"discrete_usage\"].cpu().detach().numpy()\n",
    "\n",
    "(du > 0).sum()"
   ]
  },
  {
   "cell_type": "code",
   "execution_count": 5,
   "metadata": {},
   "outputs": [
    {
     "data": {
      "text/plain": [
       "0.07916666666666666"
      ]
     },
     "execution_count": 5,
     "metadata": {},
     "output_type": "execute_result"
    }
   ],
   "source": [
    "19/240"
   ]
  }
 ],
 "metadata": {
  "interpreter": {
   "hash": "e926bc823418c448474a8974b2c2aa4c0f7ebfb59bb98328b5791be7eb5e18cd"
  },
  "kernelspec": {
   "display_name": "Python 3.8.12 64-bit ('latplan': conda)",
   "language": "python",
   "name": "python3"
  },
  "language_info": {
   "codemirror_mode": {
    "name": "ipython",
    "version": 3
   },
   "file_extension": ".py",
   "mimetype": "text/x-python",
   "name": "python",
   "nbconvert_exporter": "python",
   "pygments_lexer": "ipython3",
   "version": "3.8.12"
  },
  "orig_nbformat": 4
 },
 "nbformat": 4,
 "nbformat_minor": 2
}
