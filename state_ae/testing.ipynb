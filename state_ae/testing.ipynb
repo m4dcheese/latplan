{
 "cells": [
  {
   "cell_type": "code",
   "execution_count": 2,
   "metadata": {},
   "outputs": [
    {
     "name": "stdout",
     "output_type": "stream",
     "text": [
      "Using device cuda\n"
     ]
    },
    {
     "name": "stderr",
     "output_type": "stream",
     "text": [
      "0it [00:00, ?it/s]Clipping input data to the valid range for imshow with RGB data ([0..1] for floats or [0..255] for integers).\n"
     ]
    },
    {
     "name": "stdout",
     "output_type": "stream",
     "text": [
      "Epoch 0 Global Step 0 Train Loss: 0.724434\n"
     ]
    },
    {
     "name": "stderr",
     "output_type": "stream",
     "text": [
      "10it [00:04,  2.05it/s]\n",
      "200it [00:16, 12.31it/s]\n",
      "50it [00:02, 18.47it/s]Clipping input data to the valid range for imshow with RGB data ([0..1] for floats or [0..255] for integers).\n"
     ]
    },
    {
     "name": "stdout",
     "output_type": "stream",
     "text": [
      "Epoch 1 Global Step 250 Train Loss: 0.705140\n"
     ]
    },
    {
     "name": "stderr",
     "output_type": "stream",
     "text": [
      "10it [00:04,  2.06it/s]\n",
      "200it [00:16, 12.40it/s]\n",
      "100it [00:05, 18.12it/s]Clipping input data to the valid range for imshow with RGB data ([0..1] for floats or [0..255] for integers).\n"
     ]
    },
    {
     "name": "stdout",
     "output_type": "stream",
     "text": [
      "Epoch 2 Global Step 500 Train Loss: 0.602894\n"
     ]
    },
    {
     "name": "stderr",
     "output_type": "stream",
     "text": [
      "10it [00:04,  2.06it/s]\n",
      "200it [00:16, 12.38it/s]\n",
      "150it [00:08, 18.23it/s]Clipping input data to the valid range for imshow with RGB data ([0..1] for floats or [0..255] for integers).\n"
     ]
    },
    {
     "name": "stdout",
     "output_type": "stream",
     "text": [
      "Epoch 3 Global Step 750 Train Loss: 0.433560\n"
     ]
    },
    {
     "name": "stderr",
     "output_type": "stream",
     "text": [
      "10it [00:04,  2.07it/s]\n",
      "200it [00:16, 12.38it/s]\n",
      "200it [00:10, 18.30it/s]\n",
      "0it [00:00, ?it/s]Clipping input data to the valid range for imshow with RGB data ([0..1] for floats or [0..255] for integers).\n"
     ]
    },
    {
     "name": "stdout",
     "output_type": "stream",
     "text": [
      "Epoch 5 Global Step 1000 Train Loss: 0.334069\n"
     ]
    },
    {
     "name": "stderr",
     "output_type": "stream",
     "text": [
      "10it [00:04,  2.05it/s]\n",
      "200it [00:16, 12.43it/s]\n",
      "50it [00:02, 19.38it/s]Clipping input data to the valid range for imshow with RGB data ([0..1] for floats or [0..255] for integers).\n"
     ]
    },
    {
     "name": "stdout",
     "output_type": "stream",
     "text": [
      "Epoch 6 Global Step 1250 Train Loss: 0.263545\n"
     ]
    },
    {
     "name": "stderr",
     "output_type": "stream",
     "text": [
      "10it [00:04,  2.17it/s]\n",
      "200it [00:15, 13.04it/s]\n",
      "100it [00:05, 19.35it/s]Clipping input data to the valid range for imshow with RGB data ([0..1] for floats or [0..255] for integers).\n"
     ]
    },
    {
     "name": "stdout",
     "output_type": "stream",
     "text": [
      "Epoch 7 Global Step 1500 Train Loss: 0.167294\n"
     ]
    },
    {
     "name": "stderr",
     "output_type": "stream",
     "text": [
      "10it [00:04,  2.17it/s]\n",
      "200it [00:15, 13.03it/s]\n",
      "150it [00:07, 19.46it/s]Clipping input data to the valid range for imshow with RGB data ([0..1] for floats or [0..255] for integers).\n"
     ]
    },
    {
     "name": "stdout",
     "output_type": "stream",
     "text": [
      "Epoch 8 Global Step 1750 Train Loss: 0.115728\n"
     ]
    },
    {
     "name": "stderr",
     "output_type": "stream",
     "text": [
      "10it [00:04,  2.12it/s]\n",
      "200it [00:15, 12.94it/s]\n",
      "200it [00:10, 19.26it/s]\n",
      "0it [00:00, ?it/s]Clipping input data to the valid range for imshow with RGB data ([0..1] for floats or [0..255] for integers).\n"
     ]
    },
    {
     "name": "stdout",
     "output_type": "stream",
     "text": [
      "Epoch 10 Global Step 2000 Train Loss: 0.080896\n"
     ]
    },
    {
     "name": "stderr",
     "output_type": "stream",
     "text": [
      "10it [00:04,  2.17it/s]\n",
      "200it [00:15, 13.02it/s]\n",
      "50it [00:02, 19.40it/s]Clipping input data to the valid range for imshow with RGB data ([0..1] for floats or [0..255] for integers).\n"
     ]
    },
    {
     "name": "stdout",
     "output_type": "stream",
     "text": [
      "Epoch 11 Global Step 2250 Train Loss: 0.055289\n"
     ]
    },
    {
     "name": "stderr",
     "output_type": "stream",
     "text": [
      "10it [00:04,  2.16it/s]\n",
      "200it [00:15, 13.01it/s]\n",
      "100it [00:05, 19.40it/s]Clipping input data to the valid range for imshow with RGB data ([0..1] for floats or [0..255] for integers).\n"
     ]
    },
    {
     "name": "stdout",
     "output_type": "stream",
     "text": [
      "Epoch 12 Global Step 2500 Train Loss: 0.036358\n"
     ]
    },
    {
     "name": "stderr",
     "output_type": "stream",
     "text": [
      "10it [00:04,  2.16it/s]\n",
      "200it [00:15, 12.94it/s]\n",
      "150it [00:07, 19.19it/s]Clipping input data to the valid range for imshow with RGB data ([0..1] for floats or [0..255] for integers).\n"
     ]
    },
    {
     "name": "stdout",
     "output_type": "stream",
     "text": [
      "Epoch 13 Global Step 2750 Train Loss: 0.026971\n"
     ]
    },
    {
     "name": "stderr",
     "output_type": "stream",
     "text": [
      "10it [00:04,  2.16it/s]\n",
      "200it [00:15, 12.97it/s]\n",
      "200it [00:10, 19.30it/s]\n",
      "0it [00:00, ?it/s]Clipping input data to the valid range for imshow with RGB data ([0..1] for floats or [0..255] for integers).\n"
     ]
    },
    {
     "name": "stdout",
     "output_type": "stream",
     "text": [
      "Epoch 15 Global Step 3000 Train Loss: 0.021006\n"
     ]
    },
    {
     "name": "stderr",
     "output_type": "stream",
     "text": [
      "10it [00:04,  2.16it/s]\n",
      "200it [00:15, 13.00it/s]\n",
      "50it [00:02, 19.27it/s]Clipping input data to the valid range for imshow with RGB data ([0..1] for floats or [0..255] for integers).\n"
     ]
    },
    {
     "name": "stdout",
     "output_type": "stream",
     "text": [
      "Epoch 16 Global Step 3250 Train Loss: 0.018243\n"
     ]
    },
    {
     "name": "stderr",
     "output_type": "stream",
     "text": [
      "10it [00:04,  2.16it/s]\n",
      "200it [00:15, 13.03it/s]\n",
      "100it [00:05, 19.25it/s]Clipping input data to the valid range for imshow with RGB data ([0..1] for floats or [0..255] for integers).\n"
     ]
    },
    {
     "name": "stdout",
     "output_type": "stream",
     "text": [
      "Epoch 17 Global Step 3500 Train Loss: 0.016722\n"
     ]
    },
    {
     "name": "stderr",
     "output_type": "stream",
     "text": [
      "10it [00:04,  2.17it/s]\n",
      "200it [00:15, 12.90it/s]\n",
      "150it [00:07, 19.34it/s]Clipping input data to the valid range for imshow with RGB data ([0..1] for floats or [0..255] for integers).\n"
     ]
    },
    {
     "name": "stdout",
     "output_type": "stream",
     "text": [
      "Epoch 18 Global Step 3750 Train Loss: 0.015283\n"
     ]
    },
    {
     "name": "stderr",
     "output_type": "stream",
     "text": [
      "10it [00:04,  2.16it/s]\n",
      "200it [00:15, 12.99it/s]\n",
      "200it [00:10, 19.33it/s]\n",
      "0it [00:00, ?it/s]Clipping input data to the valid range for imshow with RGB data ([0..1] for floats or [0..255] for integers).\n"
     ]
    },
    {
     "name": "stdout",
     "output_type": "stream",
     "text": [
      "Epoch 20 Global Step 4000 Train Loss: 0.013524\n"
     ]
    },
    {
     "name": "stderr",
     "output_type": "stream",
     "text": [
      "10it [00:04,  2.17it/s]\n",
      "200it [00:15, 13.05it/s]\n",
      "50it [00:02, 19.38it/s]Clipping input data to the valid range for imshow with RGB data ([0..1] for floats or [0..255] for integers).\n"
     ]
    },
    {
     "name": "stdout",
     "output_type": "stream",
     "text": [
      "Epoch 21 Global Step 4250 Train Loss: 0.013306\n"
     ]
    },
    {
     "name": "stderr",
     "output_type": "stream",
     "text": [
      "10it [00:04,  2.16it/s]\n",
      "200it [00:15, 12.92it/s]\n",
      "100it [00:05, 19.20it/s]Clipping input data to the valid range for imshow with RGB data ([0..1] for floats or [0..255] for integers).\n"
     ]
    },
    {
     "name": "stdout",
     "output_type": "stream",
     "text": [
      "Epoch 22 Global Step 4500 Train Loss: 0.012361\n"
     ]
    },
    {
     "name": "stderr",
     "output_type": "stream",
     "text": [
      "10it [00:04,  2.16it/s]\n",
      "200it [00:15, 12.99it/s]\n",
      "150it [00:07, 19.35it/s]Clipping input data to the valid range for imshow with RGB data ([0..1] for floats or [0..255] for integers).\n"
     ]
    },
    {
     "name": "stdout",
     "output_type": "stream",
     "text": [
      "Epoch 23 Global Step 4750 Train Loss: 0.011638\n"
     ]
    },
    {
     "name": "stderr",
     "output_type": "stream",
     "text": [
      "10it [00:04,  2.17it/s]\n",
      "200it [00:15, 13.00it/s]\n",
      "200it [00:10, 19.35it/s]\n",
      "0it [00:00, ?it/s]Clipping input data to the valid range for imshow with RGB data ([0..1] for floats or [0..255] for integers).\n"
     ]
    },
    {
     "name": "stdout",
     "output_type": "stream",
     "text": [
      "Epoch 25 Global Step 5000 Train Loss: 0.010838\n"
     ]
    },
    {
     "name": "stderr",
     "output_type": "stream",
     "text": [
      "10it [00:04,  2.17it/s]\n",
      "200it [00:15, 12.93it/s]\n",
      "50it [00:02, 19.41it/s]Clipping input data to the valid range for imshow with RGB data ([0..1] for floats or [0..255] for integers).\n"
     ]
    },
    {
     "name": "stdout",
     "output_type": "stream",
     "text": [
      "Epoch 26 Global Step 5250 Train Loss: 0.010276\n"
     ]
    },
    {
     "name": "stderr",
     "output_type": "stream",
     "text": [
      "10it [00:04,  2.16it/s]\n",
      "200it [00:15, 13.02it/s]\n",
      "100it [00:05, 19.38it/s]Clipping input data to the valid range for imshow with RGB data ([0..1] for floats or [0..255] for integers).\n"
     ]
    },
    {
     "name": "stdout",
     "output_type": "stream",
     "text": [
      "Epoch 27 Global Step 5500 Train Loss: 0.009572\n"
     ]
    },
    {
     "name": "stderr",
     "output_type": "stream",
     "text": [
      "10it [00:04,  2.17it/s]\n",
      "200it [00:15, 13.00it/s]\n",
      "150it [00:07, 19.39it/s]Clipping input data to the valid range for imshow with RGB data ([0..1] for floats or [0..255] for integers).\n"
     ]
    },
    {
     "name": "stdout",
     "output_type": "stream",
     "text": [
      "Epoch 28 Global Step 5750 Train Loss: 0.009358\n"
     ]
    },
    {
     "name": "stderr",
     "output_type": "stream",
     "text": [
      "10it [00:04,  2.16it/s]\n",
      "200it [00:15, 13.04it/s]\n",
      "200it [00:10, 19.17it/s]\n",
      "0it [00:00, ?it/s]Clipping input data to the valid range for imshow with RGB data ([0..1] for floats or [0..255] for integers).\n"
     ]
    },
    {
     "name": "stdout",
     "output_type": "stream",
     "text": [
      "Epoch 30 Global Step 6000 Train Loss: 0.008535\n"
     ]
    },
    {
     "name": "stderr",
     "output_type": "stream",
     "text": [
      "10it [00:04,  2.17it/s]\n",
      "200it [00:15, 13.01it/s]\n",
      "50it [00:02, 19.15it/s]Clipping input data to the valid range for imshow with RGB data ([0..1] for floats or [0..255] for integers).\n"
     ]
    },
    {
     "name": "stdout",
     "output_type": "stream",
     "text": [
      "Epoch 31 Global Step 6250 Train Loss: 0.008149\n"
     ]
    },
    {
     "name": "stderr",
     "output_type": "stream",
     "text": [
      "10it [00:04,  2.16it/s]\n",
      "200it [00:15, 13.00it/s]\n",
      "100it [00:05, 19.37it/s]Clipping input data to the valid range for imshow with RGB data ([0..1] for floats or [0..255] for integers).\n"
     ]
    },
    {
     "name": "stdout",
     "output_type": "stream",
     "text": [
      "Epoch 32 Global Step 6500 Train Loss: 0.007968\n"
     ]
    },
    {
     "name": "stderr",
     "output_type": "stream",
     "text": [
      "10it [00:04,  2.17it/s]\n",
      "200it [00:15, 13.01it/s]\n",
      "150it [00:07, 19.36it/s]Clipping input data to the valid range for imshow with RGB data ([0..1] for floats or [0..255] for integers).\n"
     ]
    },
    {
     "name": "stdout",
     "output_type": "stream",
     "text": [
      "Epoch 33 Global Step 6750 Train Loss: 0.007508\n"
     ]
    },
    {
     "name": "stderr",
     "output_type": "stream",
     "text": [
      "10it [00:04,  2.16it/s]\n",
      "200it [00:15, 12.93it/s]\n",
      "200it [00:10, 19.25it/s]\n",
      "0it [00:00, ?it/s]Clipping input data to the valid range for imshow with RGB data ([0..1] for floats or [0..255] for integers).\n"
     ]
    },
    {
     "name": "stdout",
     "output_type": "stream",
     "text": [
      "Epoch 35 Global Step 7000 Train Loss: 0.007760\n"
     ]
    },
    {
     "name": "stderr",
     "output_type": "stream",
     "text": [
      "10it [00:04,  2.17it/s]\n",
      "200it [00:15, 13.00it/s]\n",
      "50it [00:02, 19.41it/s]Clipping input data to the valid range for imshow with RGB data ([0..1] for floats or [0..255] for integers).\n"
     ]
    },
    {
     "name": "stdout",
     "output_type": "stream",
     "text": [
      "Epoch 36 Global Step 7250 Train Loss: 0.007126\n"
     ]
    },
    {
     "name": "stderr",
     "output_type": "stream",
     "text": [
      "10it [00:04,  2.16it/s]\n",
      "200it [00:15, 13.02it/s]\n",
      "100it [00:05, 19.33it/s]Clipping input data to the valid range for imshow with RGB data ([0..1] for floats or [0..255] for integers).\n"
     ]
    },
    {
     "name": "stdout",
     "output_type": "stream",
     "text": [
      "Epoch 37 Global Step 7500 Train Loss: 0.007240\n"
     ]
    },
    {
     "name": "stderr",
     "output_type": "stream",
     "text": [
      "10it [00:04,  2.16it/s]\n",
      "200it [00:15, 12.90it/s]\n",
      "150it [00:07, 19.36it/s]Clipping input data to the valid range for imshow with RGB data ([0..1] for floats or [0..255] for integers).\n"
     ]
    },
    {
     "name": "stdout",
     "output_type": "stream",
     "text": [
      "Epoch 38 Global Step 7750 Train Loss: 0.007034\n"
     ]
    },
    {
     "name": "stderr",
     "output_type": "stream",
     "text": [
      "10it [00:04,  2.16it/s]\n",
      "200it [00:15, 13.00it/s]\n",
      "200it [00:10, 19.28it/s]\n",
      "0it [00:00, ?it/s]Clipping input data to the valid range for imshow with RGB data ([0..1] for floats or [0..255] for integers).\n"
     ]
    },
    {
     "name": "stdout",
     "output_type": "stream",
     "text": [
      "Epoch 40 Global Step 8000 Train Loss: 0.006741\n"
     ]
    },
    {
     "name": "stderr",
     "output_type": "stream",
     "text": [
      "10it [00:04,  2.17it/s]\n",
      "200it [00:15, 13.02it/s]\n",
      "50it [00:02, 19.15it/s]Clipping input data to the valid range for imshow with RGB data ([0..1] for floats or [0..255] for integers).\n"
     ]
    },
    {
     "name": "stdout",
     "output_type": "stream",
     "text": [
      "Epoch 41 Global Step 8250 Train Loss: 0.008286\n"
     ]
    },
    {
     "name": "stderr",
     "output_type": "stream",
     "text": [
      "10it [00:04,  2.17it/s]\n",
      "200it [00:15, 13.00it/s]\n",
      "100it [00:05, 19.38it/s]Clipping input data to the valid range for imshow with RGB data ([0..1] for floats or [0..255] for integers).\n"
     ]
    },
    {
     "name": "stdout",
     "output_type": "stream",
     "text": [
      "Epoch 42 Global Step 8500 Train Loss: 0.009766\n"
     ]
    },
    {
     "name": "stderr",
     "output_type": "stream",
     "text": [
      "10it [00:04,  2.16it/s]\n",
      "200it [00:15, 12.89it/s]\n",
      "150it [00:07, 19.34it/s]Clipping input data to the valid range for imshow with RGB data ([0..1] for floats or [0..255] for integers).\n"
     ]
    },
    {
     "name": "stdout",
     "output_type": "stream",
     "text": [
      "Epoch 43 Global Step 8750 Train Loss: 0.010707\n"
     ]
    },
    {
     "name": "stderr",
     "output_type": "stream",
     "text": [
      "10it [00:04,  2.16it/s]\n",
      "200it [00:15, 13.00it/s]\n",
      "200it [00:10, 19.28it/s]\n",
      "0it [00:00, ?it/s]Clipping input data to the valid range for imshow with RGB data ([0..1] for floats or [0..255] for integers).\n"
     ]
    },
    {
     "name": "stdout",
     "output_type": "stream",
     "text": [
      "Epoch 45 Global Step 9000 Train Loss: 0.011805\n"
     ]
    },
    {
     "name": "stderr",
     "output_type": "stream",
     "text": [
      "10it [00:04,  2.16it/s]\n",
      "200it [00:15, 13.04it/s]\n",
      "50it [00:02, 19.40it/s]Clipping input data to the valid range for imshow with RGB data ([0..1] for floats or [0..255] for integers).\n"
     ]
    },
    {
     "name": "stdout",
     "output_type": "stream",
     "text": [
      "Epoch 46 Global Step 9250 Train Loss: 0.013055\n"
     ]
    },
    {
     "name": "stderr",
     "output_type": "stream",
     "text": [
      "10it [00:04,  2.16it/s]\n",
      "200it [00:15, 12.91it/s]\n",
      "100it [00:05, 19.36it/s]Clipping input data to the valid range for imshow with RGB data ([0..1] for floats or [0..255] for integers).\n"
     ]
    },
    {
     "name": "stdout",
     "output_type": "stream",
     "text": [
      "Epoch 47 Global Step 9500 Train Loss: 0.013221\n"
     ]
    },
    {
     "name": "stderr",
     "output_type": "stream",
     "text": [
      "10it [00:04,  2.16it/s]\n",
      "200it [00:15, 13.00it/s]\n",
      "150it [00:07, 19.35it/s]Clipping input data to the valid range for imshow with RGB data ([0..1] for floats or [0..255] for integers).\n"
     ]
    },
    {
     "name": "stdout",
     "output_type": "stream",
     "text": [
      "Epoch 48 Global Step 9750 Train Loss: 0.014306\n"
     ]
    },
    {
     "name": "stderr",
     "output_type": "stream",
     "text": [
      "10it [00:04,  2.17it/s]\n",
      "200it [00:15, 13.02it/s]\n",
      "200it [00:10, 19.36it/s]\n",
      "0it [00:00, ?it/s]Clipping input data to the valid range for imshow with RGB data ([0..1] for floats or [0..255] for integers).\n"
     ]
    },
    {
     "name": "stdout",
     "output_type": "stream",
     "text": [
      "Epoch 50 Global Step 10000 Train Loss: 0.014675\n"
     ]
    },
    {
     "name": "stderr",
     "output_type": "stream",
     "text": [
      "10it [00:04,  2.16it/s]\n",
      "200it [00:15, 12.91it/s]\n",
      "50it [00:02, 19.32it/s]Clipping input data to the valid range for imshow with RGB data ([0..1] for floats or [0..255] for integers).\n"
     ]
    },
    {
     "name": "stdout",
     "output_type": "stream",
     "text": [
      "Epoch 51 Global Step 10250 Train Loss: 0.014009\n"
     ]
    },
    {
     "name": "stderr",
     "output_type": "stream",
     "text": [
      "10it [00:04,  2.17it/s]\n",
      "200it [00:15, 13.00it/s]\n",
      "100it [00:05, 19.24it/s]Clipping input data to the valid range for imshow with RGB data ([0..1] for floats or [0..255] for integers).\n"
     ]
    },
    {
     "name": "stdout",
     "output_type": "stream",
     "text": [
      "Epoch 52 Global Step 10500 Train Loss: 0.014691\n"
     ]
    },
    {
     "name": "stderr",
     "output_type": "stream",
     "text": [
      "10it [00:04,  2.17it/s]\n",
      "200it [00:15, 13.03it/s]\n",
      "150it [00:07, 19.24it/s]Clipping input data to the valid range for imshow with RGB data ([0..1] for floats or [0..255] for integers).\n"
     ]
    },
    {
     "name": "stdout",
     "output_type": "stream",
     "text": [
      "Epoch 53 Global Step 10750 Train Loss: 0.015168\n"
     ]
    },
    {
     "name": "stderr",
     "output_type": "stream",
     "text": [
      "10it [00:04,  2.17it/s]\n",
      "200it [00:15, 13.01it/s]\n",
      "200it [00:10, 19.12it/s]\n",
      "0it [00:00, ?it/s]Clipping input data to the valid range for imshow with RGB data ([0..1] for floats or [0..255] for integers).\n"
     ]
    },
    {
     "name": "stdout",
     "output_type": "stream",
     "text": [
      "Epoch 55 Global Step 11000 Train Loss: 0.015115\n"
     ]
    },
    {
     "name": "stderr",
     "output_type": "stream",
     "text": [
      "10it [00:04,  2.16it/s]\n",
      "200it [00:15, 12.99it/s]\n",
      "50it [00:02, 19.21it/s]Clipping input data to the valid range for imshow with RGB data ([0..1] for floats or [0..255] for integers).\n"
     ]
    },
    {
     "name": "stdout",
     "output_type": "stream",
     "text": [
      "Epoch 56 Global Step 11250 Train Loss: 0.015068\n"
     ]
    },
    {
     "name": "stderr",
     "output_type": "stream",
     "text": [
      "10it [00:04,  2.16it/s]\n",
      "200it [00:15, 12.99it/s]\n",
      "100it [00:05, 19.30it/s]Clipping input data to the valid range for imshow with RGB data ([0..1] for floats or [0..255] for integers).\n"
     ]
    },
    {
     "name": "stdout",
     "output_type": "stream",
     "text": [
      "Epoch 57 Global Step 11500 Train Loss: 0.015286\n"
     ]
    },
    {
     "name": "stderr",
     "output_type": "stream",
     "text": [
      "10it [00:04,  2.17it/s]\n",
      "200it [00:15, 13.01it/s]\n",
      "150it [00:07, 19.38it/s]Clipping input data to the valid range for imshow with RGB data ([0..1] for floats or [0..255] for integers).\n"
     ]
    },
    {
     "name": "stdout",
     "output_type": "stream",
     "text": [
      "Epoch 58 Global Step 11750 Train Loss: 0.014966\n"
     ]
    },
    {
     "name": "stderr",
     "output_type": "stream",
     "text": [
      "10it [00:04,  2.17it/s]\n",
      "200it [00:15, 12.92it/s]\n",
      "200it [00:10, 19.27it/s]\n",
      "0it [00:00, ?it/s]Clipping input data to the valid range for imshow with RGB data ([0..1] for floats or [0..255] for integers).\n"
     ]
    },
    {
     "name": "stdout",
     "output_type": "stream",
     "text": [
      "Epoch 60 Global Step 12000 Train Loss: 0.016171\n"
     ]
    },
    {
     "name": "stderr",
     "output_type": "stream",
     "text": [
      "10it [00:04,  2.17it/s]\n",
      "200it [00:15, 13.04it/s]\n",
      "50it [00:02, 19.23it/s]Clipping input data to the valid range for imshow with RGB data ([0..1] for floats or [0..255] for integers).\n"
     ]
    },
    {
     "name": "stdout",
     "output_type": "stream",
     "text": [
      "Epoch 61 Global Step 12250 Train Loss: 0.017369\n"
     ]
    },
    {
     "name": "stderr",
     "output_type": "stream",
     "text": [
      "10it [00:04,  2.17it/s]\n",
      "200it [00:15, 12.97it/s]\n",
      "100it [00:05, 19.39it/s]Clipping input data to the valid range for imshow with RGB data ([0..1] for floats or [0..255] for integers).\n"
     ]
    },
    {
     "name": "stdout",
     "output_type": "stream",
     "text": [
      "Epoch 62 Global Step 12500 Train Loss: 0.016733\n"
     ]
    },
    {
     "name": "stderr",
     "output_type": "stream",
     "text": [
      "10it [00:04,  2.17it/s]\n",
      "200it [00:15, 12.92it/s]\n",
      "150it [00:07, 19.01it/s]Clipping input data to the valid range for imshow with RGB data ([0..1] for floats or [0..255] for integers).\n"
     ]
    },
    {
     "name": "stdout",
     "output_type": "stream",
     "text": [
      "Epoch 63 Global Step 12750 Train Loss: 0.017676\n"
     ]
    },
    {
     "name": "stderr",
     "output_type": "stream",
     "text": [
      "10it [00:04,  2.16it/s]\n",
      "200it [00:15, 12.99it/s]\n",
      "200it [00:10, 19.28it/s]\n",
      "0it [00:00, ?it/s]Clipping input data to the valid range for imshow with RGB data ([0..1] for floats or [0..255] for integers).\n"
     ]
    },
    {
     "name": "stdout",
     "output_type": "stream",
     "text": [
      "Epoch 65 Global Step 13000 Train Loss: 0.016595\n"
     ]
    },
    {
     "name": "stderr",
     "output_type": "stream",
     "text": [
      "10it [00:04,  2.17it/s]\n",
      "200it [00:15, 13.05it/s]\n",
      "50it [00:02, 19.41it/s]Clipping input data to the valid range for imshow with RGB data ([0..1] for floats or [0..255] for integers).\n"
     ]
    },
    {
     "name": "stdout",
     "output_type": "stream",
     "text": [
      "Epoch 66 Global Step 13250 Train Loss: 0.015556\n"
     ]
    },
    {
     "name": "stderr",
     "output_type": "stream",
     "text": [
      "10it [00:04,  2.16it/s]\n",
      "200it [00:15, 13.07it/s]\n",
      "100it [00:05, 19.50it/s]Clipping input data to the valid range for imshow with RGB data ([0..1] for floats or [0..255] for integers).\n"
     ]
    },
    {
     "name": "stdout",
     "output_type": "stream",
     "text": [
      "Epoch 67 Global Step 13500 Train Loss: 0.017392\n"
     ]
    },
    {
     "name": "stderr",
     "output_type": "stream",
     "text": [
      "10it [00:04,  2.17it/s]\n",
      "200it [00:15, 12.97it/s]\n",
      "150it [00:07, 19.22it/s]Clipping input data to the valid range for imshow with RGB data ([0..1] for floats or [0..255] for integers).\n"
     ]
    },
    {
     "name": "stdout",
     "output_type": "stream",
     "text": [
      "Epoch 68 Global Step 13750 Train Loss: 0.015799\n"
     ]
    },
    {
     "name": "stderr",
     "output_type": "stream",
     "text": [
      "10it [00:04,  2.17it/s]\n",
      "200it [00:15, 13.03it/s]\n",
      "200it [00:10, 19.27it/s]\n",
      "0it [00:00, ?it/s]Clipping input data to the valid range for imshow with RGB data ([0..1] for floats or [0..255] for integers).\n"
     ]
    },
    {
     "name": "stdout",
     "output_type": "stream",
     "text": [
      "Epoch 70 Global Step 14000 Train Loss: 0.016525\n"
     ]
    },
    {
     "name": "stderr",
     "output_type": "stream",
     "text": [
      "10it [00:04,  2.17it/s]\n",
      "200it [00:15, 13.06it/s]\n",
      "50it [00:02, 19.39it/s]Clipping input data to the valid range for imshow with RGB data ([0..1] for floats or [0..255] for integers).\n"
     ]
    },
    {
     "name": "stdout",
     "output_type": "stream",
     "text": [
      "Epoch 71 Global Step 14250 Train Loss: 0.017025\n"
     ]
    },
    {
     "name": "stderr",
     "output_type": "stream",
     "text": [
      "10it [00:04,  2.17it/s]\n",
      "200it [00:15, 12.93it/s]\n",
      "100it [00:05, 19.33it/s]Clipping input data to the valid range for imshow with RGB data ([0..1] for floats or [0..255] for integers).\n"
     ]
    },
    {
     "name": "stdout",
     "output_type": "stream",
     "text": [
      "Epoch 72 Global Step 14500 Train Loss: 0.016756\n"
     ]
    },
    {
     "name": "stderr",
     "output_type": "stream",
     "text": [
      "10it [00:04,  2.17it/s]\n",
      "200it [00:15, 13.01it/s]\n",
      "150it [00:07, 19.20it/s]Clipping input data to the valid range for imshow with RGB data ([0..1] for floats or [0..255] for integers).\n"
     ]
    },
    {
     "name": "stdout",
     "output_type": "stream",
     "text": [
      "Epoch 73 Global Step 14750 Train Loss: 0.016899\n"
     ]
    },
    {
     "name": "stderr",
     "output_type": "stream",
     "text": [
      "10it [00:04,  2.16it/s]\n",
      "200it [00:15, 13.02it/s]\n",
      "200it [00:10, 19.38it/s]\n",
      "0it [00:00, ?it/s]Clipping input data to the valid range for imshow with RGB data ([0..1] for floats or [0..255] for integers).\n"
     ]
    },
    {
     "name": "stdout",
     "output_type": "stream",
     "text": [
      "Epoch 75 Global Step 15000 Train Loss: 0.017260\n"
     ]
    },
    {
     "name": "stderr",
     "output_type": "stream",
     "text": [
      "10it [00:04,  2.17it/s]\n",
      "200it [00:15, 12.93it/s]\n",
      "50it [00:02, 19.36it/s]Clipping input data to the valid range for imshow with RGB data ([0..1] for floats or [0..255] for integers).\n"
     ]
    },
    {
     "name": "stdout",
     "output_type": "stream",
     "text": [
      "Epoch 76 Global Step 15250 Train Loss: 0.016444\n"
     ]
    },
    {
     "name": "stderr",
     "output_type": "stream",
     "text": [
      "10it [00:04,  2.17it/s]\n",
      "200it [00:15, 13.02it/s]\n",
      "100it [00:05, 19.29it/s]Clipping input data to the valid range for imshow with RGB data ([0..1] for floats or [0..255] for integers).\n"
     ]
    },
    {
     "name": "stdout",
     "output_type": "stream",
     "text": [
      "Epoch 77 Global Step 15500 Train Loss: 0.016153\n"
     ]
    },
    {
     "name": "stderr",
     "output_type": "stream",
     "text": [
      "10it [00:04,  2.17it/s]\n",
      "200it [00:15, 13.02it/s]\n",
      "150it [00:07, 19.35it/s]Clipping input data to the valid range for imshow with RGB data ([0..1] for floats or [0..255] for integers).\n"
     ]
    },
    {
     "name": "stdout",
     "output_type": "stream",
     "text": [
      "Epoch 78 Global Step 15750 Train Loss: 0.016685\n"
     ]
    },
    {
     "name": "stderr",
     "output_type": "stream",
     "text": [
      "10it [00:04,  2.17it/s]\n",
      "200it [00:15, 13.01it/s]\n",
      "200it [00:10, 19.13it/s]\n",
      "0it [00:00, ?it/s]Clipping input data to the valid range for imshow with RGB data ([0..1] for floats or [0..255] for integers).\n"
     ]
    },
    {
     "name": "stdout",
     "output_type": "stream",
     "text": [
      "Epoch 80 Global Step 16000 Train Loss: 0.017879\n"
     ]
    },
    {
     "name": "stderr",
     "output_type": "stream",
     "text": [
      "10it [00:04,  2.17it/s]\n",
      "200it [00:15, 12.98it/s]\n",
      "50it [00:02, 19.28it/s]Clipping input data to the valid range for imshow with RGB data ([0..1] for floats or [0..255] for integers).\n"
     ]
    },
    {
     "name": "stdout",
     "output_type": "stream",
     "text": [
      "Epoch 81 Global Step 16250 Train Loss: 0.017200\n"
     ]
    },
    {
     "name": "stderr",
     "output_type": "stream",
     "text": [
      "10it [00:04,  2.17it/s]\n",
      "200it [00:15, 13.01it/s]\n",
      "100it [00:05, 19.35it/s]Clipping input data to the valid range for imshow with RGB data ([0..1] for floats or [0..255] for integers).\n"
     ]
    },
    {
     "name": "stdout",
     "output_type": "stream",
     "text": [
      "Epoch 82 Global Step 16500 Train Loss: 0.017788\n"
     ]
    },
    {
     "name": "stderr",
     "output_type": "stream",
     "text": [
      "10it [00:04,  2.17it/s]\n",
      "200it [00:15, 13.04it/s]\n",
      "150it [00:07, 19.31it/s]Clipping input data to the valid range for imshow with RGB data ([0..1] for floats or [0..255] for integers).\n"
     ]
    },
    {
     "name": "stdout",
     "output_type": "stream",
     "text": [
      "Epoch 83 Global Step 16750 Train Loss: 0.017889\n"
     ]
    },
    {
     "name": "stderr",
     "output_type": "stream",
     "text": [
      "10it [00:04,  2.16it/s]\n",
      "200it [00:15, 12.91it/s]\n",
      "200it [00:10, 19.33it/s]\n",
      "0it [00:00, ?it/s]Clipping input data to the valid range for imshow with RGB data ([0..1] for floats or [0..255] for integers).\n"
     ]
    },
    {
     "name": "stdout",
     "output_type": "stream",
     "text": [
      "Epoch 85 Global Step 17000 Train Loss: 0.017681\n"
     ]
    },
    {
     "name": "stderr",
     "output_type": "stream",
     "text": [
      "10it [00:04,  2.17it/s]\n",
      "200it [00:15, 13.03it/s]\n",
      "50it [00:02, 19.37it/s]Clipping input data to the valid range for imshow with RGB data ([0..1] for floats or [0..255] for integers).\n"
     ]
    },
    {
     "name": "stdout",
     "output_type": "stream",
     "text": [
      "Epoch 86 Global Step 17250 Train Loss: 0.018484\n"
     ]
    },
    {
     "name": "stderr",
     "output_type": "stream",
     "text": [
      "10it [00:04,  2.16it/s]\n",
      "200it [00:15, 13.02it/s]\n",
      "100it [00:05, 19.36it/s]Clipping input data to the valid range for imshow with RGB data ([0..1] for floats or [0..255] for integers).\n"
     ]
    },
    {
     "name": "stdout",
     "output_type": "stream",
     "text": [
      "Epoch 87 Global Step 17500 Train Loss: 0.018594\n"
     ]
    },
    {
     "name": "stderr",
     "output_type": "stream",
     "text": [
      "10it [00:04,  2.17it/s]\n",
      "200it [00:15, 12.93it/s]\n",
      "150it [00:07, 19.43it/s]Clipping input data to the valid range for imshow with RGB data ([0..1] for floats or [0..255] for integers).\n"
     ]
    },
    {
     "name": "stdout",
     "output_type": "stream",
     "text": [
      "Epoch 88 Global Step 17750 Train Loss: 0.018514\n"
     ]
    },
    {
     "name": "stderr",
     "output_type": "stream",
     "text": [
      "10it [00:04,  2.17it/s]\n",
      "200it [00:15, 13.07it/s]\n",
      "200it [00:10, 19.28it/s]\n",
      "0it [00:00, ?it/s]Clipping input data to the valid range for imshow with RGB data ([0..1] for floats or [0..255] for integers).\n"
     ]
    },
    {
     "name": "stdout",
     "output_type": "stream",
     "text": [
      "Epoch 90 Global Step 18000 Train Loss: 0.018393\n"
     ]
    },
    {
     "name": "stderr",
     "output_type": "stream",
     "text": [
      "10it [00:04,  2.17it/s]\n",
      "200it [00:15, 13.01it/s]\n",
      "50it [00:02, 19.33it/s]Clipping input data to the valid range for imshow with RGB data ([0..1] for floats or [0..255] for integers).\n"
     ]
    },
    {
     "name": "stdout",
     "output_type": "stream",
     "text": [
      "Epoch 91 Global Step 18250 Train Loss: 0.017880\n"
     ]
    },
    {
     "name": "stderr",
     "output_type": "stream",
     "text": [
      "10it [00:04,  2.17it/s]\n",
      "200it [00:15, 13.04it/s]\n",
      "100it [00:05, 19.35it/s]Clipping input data to the valid range for imshow with RGB data ([0..1] for floats or [0..255] for integers).\n"
     ]
    },
    {
     "name": "stdout",
     "output_type": "stream",
     "text": [
      "Epoch 92 Global Step 18500 Train Loss: 0.018581\n"
     ]
    },
    {
     "name": "stderr",
     "output_type": "stream",
     "text": [
      "10it [00:04,  2.17it/s]\n",
      "200it [00:15, 12.91it/s]\n",
      "150it [00:07, 19.23it/s]Clipping input data to the valid range for imshow with RGB data ([0..1] for floats or [0..255] for integers).\n"
     ]
    },
    {
     "name": "stdout",
     "output_type": "stream",
     "text": [
      "Epoch 93 Global Step 18750 Train Loss: 0.019046\n"
     ]
    },
    {
     "name": "stderr",
     "output_type": "stream",
     "text": [
      "10it [00:04,  2.17it/s]\n",
      "200it [00:15, 13.02it/s]\n",
      "200it [00:10, 19.35it/s]\n",
      "0it [00:00, ?it/s]Clipping input data to the valid range for imshow with RGB data ([0..1] for floats or [0..255] for integers).\n"
     ]
    },
    {
     "name": "stdout",
     "output_type": "stream",
     "text": [
      "Epoch 95 Global Step 19000 Train Loss: 0.019380\n"
     ]
    },
    {
     "name": "stderr",
     "output_type": "stream",
     "text": [
      "10it [00:04,  2.17it/s]\n",
      "200it [00:15, 13.04it/s]\n",
      "50it [00:02, 19.37it/s]Clipping input data to the valid range for imshow with RGB data ([0..1] for floats or [0..255] for integers).\n"
     ]
    },
    {
     "name": "stdout",
     "output_type": "stream",
     "text": [
      "Epoch 96 Global Step 19250 Train Loss: 0.018622\n"
     ]
    },
    {
     "name": "stderr",
     "output_type": "stream",
     "text": [
      "10it [00:04,  2.16it/s]\n",
      "200it [00:15, 12.93it/s]\n",
      "100it [00:05, 19.25it/s]Clipping input data to the valid range for imshow with RGB data ([0..1] for floats or [0..255] for integers).\n"
     ]
    },
    {
     "name": "stdout",
     "output_type": "stream",
     "text": [
      "Epoch 97 Global Step 19500 Train Loss: 0.020271\n"
     ]
    },
    {
     "name": "stderr",
     "output_type": "stream",
     "text": [
      "10it [00:04,  2.17it/s]\n",
      "200it [00:15, 13.01it/s]\n",
      "150it [00:07, 19.36it/s]Clipping input data to the valid range for imshow with RGB data ([0..1] for floats or [0..255] for integers).\n"
     ]
    },
    {
     "name": "stdout",
     "output_type": "stream",
     "text": [
      "Epoch 98 Global Step 19750 Train Loss: 0.020006\n"
     ]
    },
    {
     "name": "stderr",
     "output_type": "stream",
     "text": [
      "10it [00:04,  2.17it/s]\n",
      "200it [00:15, 13.01it/s]\n",
      "200it [00:10, 19.33it/s]\n",
      "0it [00:00, ?it/s]Clipping input data to the valid range for imshow with RGB data ([0..1] for floats or [0..255] for integers).\n"
     ]
    },
    {
     "name": "stdout",
     "output_type": "stream",
     "text": [
      "Epoch 100 Global Step 20000 Train Loss: 0.019333\n"
     ]
    },
    {
     "name": "stderr",
     "output_type": "stream",
     "text": [
      "10it [00:04,  2.17it/s]\n",
      "200it [00:15, 12.94it/s]\n",
      "50it [00:02, 19.43it/s]Clipping input data to the valid range for imshow with RGB data ([0..1] for floats or [0..255] for integers).\n"
     ]
    },
    {
     "name": "stdout",
     "output_type": "stream",
     "text": [
      "Epoch 101 Global Step 20250 Train Loss: 0.019941\n"
     ]
    },
    {
     "name": "stderr",
     "output_type": "stream",
     "text": [
      "10it [00:04,  2.17it/s]\n",
      "200it [00:15, 12.99it/s]\n",
      "100it [00:05, 19.28it/s]Clipping input data to the valid range for imshow with RGB data ([0..1] for floats or [0..255] for integers).\n"
     ]
    },
    {
     "name": "stdout",
     "output_type": "stream",
     "text": [
      "Epoch 102 Global Step 20500 Train Loss: 0.019957\n"
     ]
    },
    {
     "name": "stderr",
     "output_type": "stream",
     "text": [
      "10it [00:04,  2.17it/s]\n",
      "200it [00:15, 13.00it/s]\n",
      "150it [00:07, 19.36it/s]Clipping input data to the valid range for imshow with RGB data ([0..1] for floats or [0..255] for integers).\n"
     ]
    },
    {
     "name": "stdout",
     "output_type": "stream",
     "text": [
      "Epoch 103 Global Step 20750 Train Loss: 0.020434\n"
     ]
    },
    {
     "name": "stderr",
     "output_type": "stream",
     "text": [
      "10it [00:04,  2.17it/s]\n",
      "200it [00:15, 13.03it/s]\n",
      "200it [00:10, 19.13it/s]\n",
      "0it [00:00, ?it/s]Clipping input data to the valid range for imshow with RGB data ([0..1] for floats or [0..255] for integers).\n"
     ]
    },
    {
     "name": "stdout",
     "output_type": "stream",
     "text": [
      "Epoch 105 Global Step 21000 Train Loss: 0.021300\n"
     ]
    },
    {
     "name": "stderr",
     "output_type": "stream",
     "text": [
      "10it [00:04,  2.17it/s]\n",
      "200it [00:15, 13.02it/s]\n",
      "50it [00:02, 19.55it/s]Clipping input data to the valid range for imshow with RGB data ([0..1] for floats or [0..255] for integers).\n"
     ]
    },
    {
     "name": "stdout",
     "output_type": "stream",
     "text": [
      "Epoch 106 Global Step 21250 Train Loss: 0.019990\n"
     ]
    },
    {
     "name": "stderr",
     "output_type": "stream",
     "text": [
      "10it [00:04,  2.17it/s]\n",
      "200it [00:15, 13.05it/s]\n",
      "100it [00:05, 19.38it/s]Clipping input data to the valid range for imshow with RGB data ([0..1] for floats or [0..255] for integers).\n"
     ]
    },
    {
     "name": "stdout",
     "output_type": "stream",
     "text": [
      "Epoch 107 Global Step 21500 Train Loss: 0.020754\n"
     ]
    },
    {
     "name": "stderr",
     "output_type": "stream",
     "text": [
      "10it [00:04,  2.17it/s]\n",
      "200it [00:15, 13.04it/s]\n",
      "150it [00:07, 19.37it/s]Clipping input data to the valid range for imshow with RGB data ([0..1] for floats or [0..255] for integers).\n"
     ]
    },
    {
     "name": "stdout",
     "output_type": "stream",
     "text": [
      "Epoch 108 Global Step 21750 Train Loss: 0.021775\n"
     ]
    },
    {
     "name": "stderr",
     "output_type": "stream",
     "text": [
      "10it [00:04,  2.17it/s]\n",
      "200it [00:15, 12.93it/s]\n",
      "200it [00:10, 19.29it/s]\n",
      "0it [00:00, ?it/s]Clipping input data to the valid range for imshow with RGB data ([0..1] for floats or [0..255] for integers).\n"
     ]
    },
    {
     "name": "stdout",
     "output_type": "stream",
     "text": [
      "Epoch 110 Global Step 22000 Train Loss: 0.020928\n"
     ]
    },
    {
     "name": "stderr",
     "output_type": "stream",
     "text": [
      "10it [00:04,  2.17it/s]\n",
      "200it [00:15, 13.01it/s]\n",
      "50it [00:02, 19.20it/s]Clipping input data to the valid range for imshow with RGB data ([0..1] for floats or [0..255] for integers).\n"
     ]
    },
    {
     "name": "stdout",
     "output_type": "stream",
     "text": [
      "Epoch 111 Global Step 22250 Train Loss: 0.021130\n"
     ]
    },
    {
     "name": "stderr",
     "output_type": "stream",
     "text": [
      "10it [00:04,  2.17it/s]\n",
      "200it [00:15, 13.02it/s]\n",
      "100it [00:05, 19.30it/s]Clipping input data to the valid range for imshow with RGB data ([0..1] for floats or [0..255] for integers).\n"
     ]
    },
    {
     "name": "stdout",
     "output_type": "stream",
     "text": [
      "Epoch 112 Global Step 22500 Train Loss: 0.021231\n"
     ]
    },
    {
     "name": "stderr",
     "output_type": "stream",
     "text": [
      "10it [00:04,  2.17it/s]\n",
      "200it [00:15, 12.93it/s]\n",
      "150it [00:07, 19.34it/s]Clipping input data to the valid range for imshow with RGB data ([0..1] for floats or [0..255] for integers).\n"
     ]
    },
    {
     "name": "stdout",
     "output_type": "stream",
     "text": [
      "Epoch 113 Global Step 22750 Train Loss: 0.021348\n"
     ]
    },
    {
     "name": "stderr",
     "output_type": "stream",
     "text": [
      "10it [00:04,  2.16it/s]\n",
      "200it [00:15, 12.99it/s]\n",
      "200it [00:10, 19.29it/s]\n",
      "0it [00:00, ?it/s]Clipping input data to the valid range for imshow with RGB data ([0..1] for floats or [0..255] for integers).\n"
     ]
    },
    {
     "name": "stdout",
     "output_type": "stream",
     "text": [
      "Epoch 115 Global Step 23000 Train Loss: 0.024204\n"
     ]
    },
    {
     "name": "stderr",
     "output_type": "stream",
     "text": [
      "10it [00:04,  2.16it/s]\n",
      "200it [00:15, 13.01it/s]\n",
      "50it [00:02, 19.34it/s]Clipping input data to the valid range for imshow with RGB data ([0..1] for floats or [0..255] for integers).\n"
     ]
    },
    {
     "name": "stdout",
     "output_type": "stream",
     "text": [
      "Epoch 116 Global Step 23250 Train Loss: 0.021923\n"
     ]
    },
    {
     "name": "stderr",
     "output_type": "stream",
     "text": [
      "10it [00:04,  2.17it/s]\n",
      "200it [00:15, 13.03it/s]\n",
      "100it [00:05, 19.30it/s]Clipping input data to the valid range for imshow with RGB data ([0..1] for floats or [0..255] for integers).\n"
     ]
    },
    {
     "name": "stdout",
     "output_type": "stream",
     "text": [
      "Epoch 117 Global Step 23500 Train Loss: 0.022226\n"
     ]
    },
    {
     "name": "stderr",
     "output_type": "stream",
     "text": [
      "10it [00:04,  2.17it/s]\n",
      "200it [00:15, 12.93it/s]\n",
      "150it [00:07, 19.23it/s]Clipping input data to the valid range for imshow with RGB data ([0..1] for floats or [0..255] for integers).\n"
     ]
    },
    {
     "name": "stdout",
     "output_type": "stream",
     "text": [
      "Epoch 118 Global Step 23750 Train Loss: 0.023183\n"
     ]
    },
    {
     "name": "stderr",
     "output_type": "stream",
     "text": [
      "10it [00:04,  2.17it/s]\n",
      "200it [00:15, 13.01it/s]\n",
      "200it [00:10, 19.28it/s]\n",
      "0it [00:00, ?it/s]Clipping input data to the valid range for imshow with RGB data ([0..1] for floats or [0..255] for integers).\n"
     ]
    },
    {
     "name": "stdout",
     "output_type": "stream",
     "text": [
      "Epoch 120 Global Step 24000 Train Loss: 0.022933\n"
     ]
    },
    {
     "name": "stderr",
     "output_type": "stream",
     "text": [
      "10it [00:04,  2.17it/s]\n",
      "200it [00:15, 13.04it/s]\n",
      "50it [00:02, 19.42it/s]Clipping input data to the valid range for imshow with RGB data ([0..1] for floats or [0..255] for integers).\n"
     ]
    },
    {
     "name": "stdout",
     "output_type": "stream",
     "text": [
      "Epoch 121 Global Step 24250 Train Loss: 0.022811\n"
     ]
    },
    {
     "name": "stderr",
     "output_type": "stream",
     "text": [
      "10it [00:04,  2.16it/s]\n",
      "200it [00:15, 12.93it/s]\n",
      "100it [00:05, 19.35it/s]Clipping input data to the valid range for imshow with RGB data ([0..1] for floats or [0..255] for integers).\n"
     ]
    },
    {
     "name": "stdout",
     "output_type": "stream",
     "text": [
      "Epoch 122 Global Step 24500 Train Loss: 0.023642\n"
     ]
    },
    {
     "name": "stderr",
     "output_type": "stream",
     "text": [
      "10it [00:04,  2.17it/s]\n",
      "200it [00:15, 13.02it/s]\n",
      "150it [00:07, 19.35it/s]Clipping input data to the valid range for imshow with RGB data ([0..1] for floats or [0..255] for integers).\n"
     ]
    },
    {
     "name": "stdout",
     "output_type": "stream",
     "text": [
      "Epoch 123 Global Step 24750 Train Loss: 0.024053\n"
     ]
    },
    {
     "name": "stderr",
     "output_type": "stream",
     "text": [
      "10it [00:04,  2.15it/s]\n",
      "200it [00:15, 12.99it/s]\n",
      "200it [00:10, 19.32it/s]\n",
      "0it [00:00, ?it/s]Clipping input data to the valid range for imshow with RGB data ([0..1] for floats or [0..255] for integers).\n"
     ]
    },
    {
     "name": "stdout",
     "output_type": "stream",
     "text": [
      "Epoch 125 Global Step 25000 Train Loss: 0.026666\n"
     ]
    },
    {
     "name": "stderr",
     "output_type": "stream",
     "text": [
      "10it [00:04,  2.17it/s]\n",
      "200it [00:15, 12.92it/s]\n",
      "50it [00:02, 19.38it/s]Clipping input data to the valid range for imshow with RGB data ([0..1] for floats or [0..255] for integers).\n"
     ]
    },
    {
     "name": "stdout",
     "output_type": "stream",
     "text": [
      "Epoch 126 Global Step 25250 Train Loss: 0.023652\n"
     ]
    },
    {
     "name": "stderr",
     "output_type": "stream",
     "text": [
      "10it [00:04,  2.16it/s]\n",
      "200it [00:15, 13.00it/s]\n",
      "100it [00:05, 19.28it/s]Clipping input data to the valid range for imshow with RGB data ([0..1] for floats or [0..255] for integers).\n"
     ]
    },
    {
     "name": "stdout",
     "output_type": "stream",
     "text": [
      "Epoch 127 Global Step 25500 Train Loss: 0.024287\n"
     ]
    },
    {
     "name": "stderr",
     "output_type": "stream",
     "text": [
      "10it [00:04,  2.16it/s]\n",
      "200it [00:15, 13.00it/s]\n",
      "150it [00:07, 19.36it/s]Clipping input data to the valid range for imshow with RGB data ([0..1] for floats or [0..255] for integers).\n"
     ]
    },
    {
     "name": "stdout",
     "output_type": "stream",
     "text": [
      "Epoch 128 Global Step 25750 Train Loss: 0.025040\n"
     ]
    },
    {
     "name": "stderr",
     "output_type": "stream",
     "text": [
      "10it [00:04,  2.17it/s]\n",
      "200it [00:15, 13.01it/s]\n",
      "200it [00:10, 19.13it/s]\n",
      "0it [00:00, ?it/s]Clipping input data to the valid range for imshow with RGB data ([0..1] for floats or [0..255] for integers).\n"
     ]
    },
    {
     "name": "stdout",
     "output_type": "stream",
     "text": [
      "Epoch 130 Global Step 26000 Train Loss: 0.024838\n"
     ]
    },
    {
     "name": "stderr",
     "output_type": "stream",
     "text": [
      "10it [00:04,  2.17it/s]\n",
      "200it [00:15, 13.02it/s]\n",
      "50it [00:02, 19.40it/s]Clipping input data to the valid range for imshow with RGB data ([0..1] for floats or [0..255] for integers).\n"
     ]
    },
    {
     "name": "stdout",
     "output_type": "stream",
     "text": [
      "Epoch 131 Global Step 26250 Train Loss: 0.024085\n"
     ]
    },
    {
     "name": "stderr",
     "output_type": "stream",
     "text": [
      "10it [00:04,  2.17it/s]\n",
      "200it [00:15, 13.06it/s]\n",
      "100it [00:05, 19.28it/s]Clipping input data to the valid range for imshow with RGB data ([0..1] for floats or [0..255] for integers).\n"
     ]
    },
    {
     "name": "stdout",
     "output_type": "stream",
     "text": [
      "Epoch 132 Global Step 26500 Train Loss: 0.026026\n"
     ]
    },
    {
     "name": "stderr",
     "output_type": "stream",
     "text": [
      "10it [00:04,  2.17it/s]\n",
      "200it [00:15, 13.04it/s]\n",
      "150it [00:07, 19.41it/s]Clipping input data to the valid range for imshow with RGB data ([0..1] for floats or [0..255] for integers).\n"
     ]
    },
    {
     "name": "stdout",
     "output_type": "stream",
     "text": [
      "Epoch 133 Global Step 26750 Train Loss: 0.026113\n"
     ]
    },
    {
     "name": "stderr",
     "output_type": "stream",
     "text": [
      "10it [00:04,  2.17it/s]\n",
      "200it [00:15, 12.94it/s]\n",
      "200it [00:10, 19.30it/s]\n",
      "0it [00:00, ?it/s]Clipping input data to the valid range for imshow with RGB data ([0..1] for floats or [0..255] for integers).\n"
     ]
    },
    {
     "name": "stdout",
     "output_type": "stream",
     "text": [
      "Epoch 135 Global Step 27000 Train Loss: 0.027288\n"
     ]
    },
    {
     "name": "stderr",
     "output_type": "stream",
     "text": [
      "10it [00:04,  2.17it/s]\n",
      "200it [00:15, 13.05it/s]\n",
      "50it [00:02, 19.36it/s]Clipping input data to the valid range for imshow with RGB data ([0..1] for floats or [0..255] for integers).\n"
     ]
    },
    {
     "name": "stdout",
     "output_type": "stream",
     "text": [
      "Epoch 136 Global Step 27250 Train Loss: 0.024916\n"
     ]
    },
    {
     "name": "stderr",
     "output_type": "stream",
     "text": [
      "10it [00:04,  2.16it/s]\n",
      "200it [00:15, 13.07it/s]\n",
      "100it [00:05, 19.51it/s]Clipping input data to the valid range for imshow with RGB data ([0..1] for floats or [0..255] for integers).\n"
     ]
    },
    {
     "name": "stdout",
     "output_type": "stream",
     "text": [
      "Epoch 137 Global Step 27500 Train Loss: 0.026060\n"
     ]
    },
    {
     "name": "stderr",
     "output_type": "stream",
     "text": [
      "10it [00:04,  2.17it/s]\n",
      "200it [00:15, 12.97it/s]\n",
      "150it [00:07, 19.29it/s]Clipping input data to the valid range for imshow with RGB data ([0..1] for floats or [0..255] for integers).\n"
     ]
    },
    {
     "name": "stdout",
     "output_type": "stream",
     "text": [
      "Epoch 138 Global Step 27750 Train Loss: 0.025407\n"
     ]
    },
    {
     "name": "stderr",
     "output_type": "stream",
     "text": [
      "10it [00:04,  2.17it/s]\n",
      "200it [00:15, 13.00it/s]\n",
      "200it [00:10, 19.33it/s]\n",
      "0it [00:00, ?it/s]Clipping input data to the valid range for imshow with RGB data ([0..1] for floats or [0..255] for integers).\n"
     ]
    },
    {
     "name": "stdout",
     "output_type": "stream",
     "text": [
      "Epoch 140 Global Step 28000 Train Loss: 0.026719\n"
     ]
    },
    {
     "name": "stderr",
     "output_type": "stream",
     "text": [
      "10it [00:04,  2.17it/s]\n",
      "200it [00:15, 13.00it/s]\n",
      "50it [00:02, 19.30it/s]Clipping input data to the valid range for imshow with RGB data ([0..1] for floats or [0..255] for integers).\n"
     ]
    },
    {
     "name": "stdout",
     "output_type": "stream",
     "text": [
      "Epoch 141 Global Step 28250 Train Loss: 0.026164\n"
     ]
    },
    {
     "name": "stderr",
     "output_type": "stream",
     "text": [
      "10it [00:04,  2.16it/s]\n",
      "200it [00:15, 13.05it/s]\n",
      "100it [00:05, 19.36it/s]Clipping input data to the valid range for imshow with RGB data ([0..1] for floats or [0..255] for integers).\n"
     ]
    },
    {
     "name": "stdout",
     "output_type": "stream",
     "text": [
      "Epoch 142 Global Step 28500 Train Loss: 0.025819\n"
     ]
    },
    {
     "name": "stderr",
     "output_type": "stream",
     "text": [
      "10it [00:04,  2.17it/s]\n",
      "200it [00:15, 12.95it/s]\n",
      "150it [00:07, 19.27it/s]Clipping input data to the valid range for imshow with RGB data ([0..1] for floats or [0..255] for integers).\n"
     ]
    },
    {
     "name": "stdout",
     "output_type": "stream",
     "text": [
      "Epoch 143 Global Step 28750 Train Loss: 0.026174\n"
     ]
    },
    {
     "name": "stderr",
     "output_type": "stream",
     "text": [
      "10it [00:04,  2.16it/s]\n",
      "200it [00:15, 13.00it/s]\n",
      "200it [00:10, 19.31it/s]\n",
      "0it [00:00, ?it/s]Clipping input data to the valid range for imshow with RGB data ([0..1] for floats or [0..255] for integers).\n"
     ]
    },
    {
     "name": "stdout",
     "output_type": "stream",
     "text": [
      "Epoch 145 Global Step 29000 Train Loss: 0.026695\n"
     ]
    },
    {
     "name": "stderr",
     "output_type": "stream",
     "text": [
      "10it [00:04,  2.17it/s]\n",
      "200it [00:15, 13.05it/s]\n",
      "50it [00:02, 19.03it/s]Clipping input data to the valid range for imshow with RGB data ([0..1] for floats or [0..255] for integers).\n"
     ]
    },
    {
     "name": "stdout",
     "output_type": "stream",
     "text": [
      "Epoch 146 Global Step 29250 Train Loss: 0.026649\n"
     ]
    },
    {
     "name": "stderr",
     "output_type": "stream",
     "text": [
      "10it [00:04,  2.16it/s]\n",
      "200it [00:15, 12.93it/s]\n",
      "100it [00:05, 19.28it/s]Clipping input data to the valid range for imshow with RGB data ([0..1] for floats or [0..255] for integers).\n"
     ]
    },
    {
     "name": "stdout",
     "output_type": "stream",
     "text": [
      "Epoch 147 Global Step 29500 Train Loss: 0.026725\n"
     ]
    },
    {
     "name": "stderr",
     "output_type": "stream",
     "text": [
      "10it [00:04,  2.17it/s]\n",
      "200it [00:15, 13.02it/s]\n",
      "150it [00:07, 19.21it/s]Clipping input data to the valid range for imshow with RGB data ([0..1] for floats or [0..255] for integers).\n"
     ]
    },
    {
     "name": "stdout",
     "output_type": "stream",
     "text": [
      "Epoch 148 Global Step 29750 Train Loss: 0.027121\n"
     ]
    },
    {
     "name": "stderr",
     "output_type": "stream",
     "text": [
      "10it [00:04,  2.17it/s]\n",
      "200it [00:15, 13.05it/s]\n",
      "200it [00:10, 19.33it/s]\n",
      "0it [00:00, ?it/s]Clipping input data to the valid range for imshow with RGB data ([0..1] for floats or [0..255] for integers).\n"
     ]
    },
    {
     "name": "stdout",
     "output_type": "stream",
     "text": [
      "Epoch 150 Global Step 30000 Train Loss: 0.027735\n"
     ]
    },
    {
     "name": "stderr",
     "output_type": "stream",
     "text": [
      "10it [00:04,  2.17it/s]\n",
      "200it [00:15, 12.91it/s]\n",
      "50it [00:02, 19.23it/s]Clipping input data to the valid range for imshow with RGB data ([0..1] for floats or [0..255] for integers).\n"
     ]
    },
    {
     "name": "stdout",
     "output_type": "stream",
     "text": [
      "Epoch 151 Global Step 30250 Train Loss: 0.026334\n"
     ]
    },
    {
     "name": "stderr",
     "output_type": "stream",
     "text": [
      "10it [00:04,  2.17it/s]\n",
      "200it [00:15, 13.00it/s]\n",
      "100it [00:05, 19.24it/s]Clipping input data to the valid range for imshow with RGB data ([0..1] for floats or [0..255] for integers).\n"
     ]
    },
    {
     "name": "stdout",
     "output_type": "stream",
     "text": [
      "Epoch 152 Global Step 30500 Train Loss: 0.027171\n"
     ]
    },
    {
     "name": "stderr",
     "output_type": "stream",
     "text": [
      "10it [00:04,  2.17it/s]\n",
      "200it [00:15, 13.00it/s]\n",
      "150it [00:07, 19.37it/s]Clipping input data to the valid range for imshow with RGB data ([0..1] for floats or [0..255] for integers).\n"
     ]
    },
    {
     "name": "stdout",
     "output_type": "stream",
     "text": [
      "Epoch 153 Global Step 30750 Train Loss: 0.027113\n"
     ]
    },
    {
     "name": "stderr",
     "output_type": "stream",
     "text": [
      "10it [00:04,  2.17it/s]\n",
      "200it [00:15, 13.02it/s]\n",
      "200it [00:10, 19.10it/s]\n",
      "0it [00:00, ?it/s]Clipping input data to the valid range for imshow with RGB data ([0..1] for floats or [0..255] for integers).\n"
     ]
    },
    {
     "name": "stdout",
     "output_type": "stream",
     "text": [
      "Epoch 155 Global Step 31000 Train Loss: 0.026956\n"
     ]
    },
    {
     "name": "stderr",
     "output_type": "stream",
     "text": [
      "10it [00:04,  2.17it/s]\n",
      "200it [00:15, 13.02it/s]\n",
      "50it [00:02, 19.36it/s]Clipping input data to the valid range for imshow with RGB data ([0..1] for floats or [0..255] for integers).\n"
     ]
    },
    {
     "name": "stdout",
     "output_type": "stream",
     "text": [
      "Epoch 156 Global Step 31250 Train Loss: 0.026238\n"
     ]
    },
    {
     "name": "stderr",
     "output_type": "stream",
     "text": [
      "10it [00:04,  2.17it/s]\n",
      "200it [00:15, 13.02it/s]\n",
      "100it [00:05, 19.18it/s]Clipping input data to the valid range for imshow with RGB data ([0..1] for floats or [0..255] for integers).\n"
     ]
    },
    {
     "name": "stdout",
     "output_type": "stream",
     "text": [
      "Epoch 157 Global Step 31500 Train Loss: 0.026965\n"
     ]
    },
    {
     "name": "stderr",
     "output_type": "stream",
     "text": [
      "10it [00:04,  2.17it/s]\n",
      "200it [00:15, 13.01it/s]\n",
      "150it [00:07, 19.34it/s]Clipping input data to the valid range for imshow with RGB data ([0..1] for floats or [0..255] for integers).\n"
     ]
    },
    {
     "name": "stdout",
     "output_type": "stream",
     "text": [
      "Epoch 158 Global Step 31750 Train Loss: 0.026124\n"
     ]
    },
    {
     "name": "stderr",
     "output_type": "stream",
     "text": [
      "10it [00:04,  2.17it/s]\n",
      "200it [00:15, 12.93it/s]\n",
      "200it [00:10, 19.29it/s]\n",
      "0it [00:00, ?it/s]Clipping input data to the valid range for imshow with RGB data ([0..1] for floats or [0..255] for integers).\n"
     ]
    },
    {
     "name": "stdout",
     "output_type": "stream",
     "text": [
      "Epoch 160 Global Step 32000 Train Loss: 0.026430\n"
     ]
    },
    {
     "name": "stderr",
     "output_type": "stream",
     "text": [
      "10it [00:04,  2.17it/s]\n",
      "200it [00:15, 13.03it/s]\n",
      "50it [00:02, 19.08it/s]Clipping input data to the valid range for imshow with RGB data ([0..1] for floats or [0..255] for integers).\n"
     ]
    },
    {
     "name": "stdout",
     "output_type": "stream",
     "text": [
      "Epoch 161 Global Step 32250 Train Loss: 0.026682\n"
     ]
    },
    {
     "name": "stderr",
     "output_type": "stream",
     "text": [
      "10it [00:04,  2.17it/s]\n",
      "200it [00:15, 13.00it/s]\n",
      "100it [00:05, 19.24it/s]Clipping input data to the valid range for imshow with RGB data ([0..1] for floats or [0..255] for integers).\n"
     ]
    },
    {
     "name": "stdout",
     "output_type": "stream",
     "text": [
      "Epoch 162 Global Step 32500 Train Loss: 0.027334\n"
     ]
    },
    {
     "name": "stderr",
     "output_type": "stream",
     "text": [
      "10it [00:04,  2.17it/s]\n",
      "200it [00:15, 12.92it/s]\n",
      "150it [00:07, 19.29it/s]Clipping input data to the valid range for imshow with RGB data ([0..1] for floats or [0..255] for integers).\n"
     ]
    },
    {
     "name": "stdout",
     "output_type": "stream",
     "text": [
      "Epoch 163 Global Step 32750 Train Loss: 0.026046\n"
     ]
    },
    {
     "name": "stderr",
     "output_type": "stream",
     "text": [
      "10it [00:04,  2.17it/s]\n",
      "200it [00:15, 12.96it/s]\n",
      "200it [00:10, 19.21it/s]\n",
      "0it [00:00, ?it/s]Clipping input data to the valid range for imshow with RGB data ([0..1] for floats or [0..255] for integers).\n"
     ]
    },
    {
     "name": "stdout",
     "output_type": "stream",
     "text": [
      "Epoch 165 Global Step 33000 Train Loss: 0.027380\n"
     ]
    },
    {
     "name": "stderr",
     "output_type": "stream",
     "text": [
      "10it [00:04,  2.17it/s]\n",
      "200it [00:15, 13.04it/s]\n",
      "50it [00:02, 19.31it/s]Clipping input data to the valid range for imshow with RGB data ([0..1] for floats or [0..255] for integers).\n"
     ]
    },
    {
     "name": "stdout",
     "output_type": "stream",
     "text": [
      "Epoch 166 Global Step 33250 Train Loss: 0.026113\n"
     ]
    },
    {
     "name": "stderr",
     "output_type": "stream",
     "text": [
      "10it [00:04,  2.17it/s]\n",
      "200it [00:15, 13.02it/s]\n",
      "100it [00:05, 19.04it/s]Clipping input data to the valid range for imshow with RGB data ([0..1] for floats or [0..255] for integers).\n"
     ]
    },
    {
     "name": "stdout",
     "output_type": "stream",
     "text": [
      "Epoch 167 Global Step 33500 Train Loss: 0.026909\n"
     ]
    },
    {
     "name": "stderr",
     "output_type": "stream",
     "text": [
      "10it [00:04,  2.17it/s]\n",
      "200it [00:15, 12.92it/s]\n",
      "150it [00:07, 19.32it/s]Clipping input data to the valid range for imshow with RGB data ([0..1] for floats or [0..255] for integers).\n"
     ]
    },
    {
     "name": "stdout",
     "output_type": "stream",
     "text": [
      "Epoch 168 Global Step 33750 Train Loss: 0.026602\n"
     ]
    },
    {
     "name": "stderr",
     "output_type": "stream",
     "text": [
      "10it [00:04,  2.17it/s]\n",
      "200it [00:15, 13.01it/s]\n",
      "200it [00:10, 19.25it/s]\n",
      "0it [00:00, ?it/s]Clipping input data to the valid range for imshow with RGB data ([0..1] for floats or [0..255] for integers).\n"
     ]
    },
    {
     "name": "stdout",
     "output_type": "stream",
     "text": [
      "Epoch 170 Global Step 34000 Train Loss: 0.025970\n"
     ]
    },
    {
     "name": "stderr",
     "output_type": "stream",
     "text": [
      "10it [00:04,  2.17it/s]\n",
      "200it [00:15, 13.02it/s]\n",
      "50it [00:02, 19.31it/s]Clipping input data to the valid range for imshow with RGB data ([0..1] for floats or [0..255] for integers).\n"
     ]
    },
    {
     "name": "stdout",
     "output_type": "stream",
     "text": [
      "Epoch 171 Global Step 34250 Train Loss: 0.026006\n"
     ]
    },
    {
     "name": "stderr",
     "output_type": "stream",
     "text": [
      "10it [00:04,  2.17it/s]\n",
      "200it [00:15, 12.91it/s]\n",
      "100it [00:05, 19.02it/s]Clipping input data to the valid range for imshow with RGB data ([0..1] for floats or [0..255] for integers).\n"
     ]
    },
    {
     "name": "stdout",
     "output_type": "stream",
     "text": [
      "Epoch 172 Global Step 34500 Train Loss: 0.027237\n"
     ]
    },
    {
     "name": "stderr",
     "output_type": "stream",
     "text": [
      "10it [00:04,  2.16it/s]\n",
      "200it [00:15, 13.00it/s]\n",
      "150it [00:07, 19.24it/s]Clipping input data to the valid range for imshow with RGB data ([0..1] for floats or [0..255] for integers).\n"
     ]
    },
    {
     "name": "stdout",
     "output_type": "stream",
     "text": [
      "Epoch 173 Global Step 34750 Train Loss: 0.025233\n"
     ]
    },
    {
     "name": "stderr",
     "output_type": "stream",
     "text": [
      "10it [00:04,  2.17it/s]\n",
      "200it [00:15, 13.02it/s]\n",
      "200it [00:10, 19.30it/s]\n",
      "0it [00:00, ?it/s]Clipping input data to the valid range for imshow with RGB data ([0..1] for floats or [0..255] for integers).\n"
     ]
    },
    {
     "name": "stdout",
     "output_type": "stream",
     "text": [
      "Epoch 175 Global Step 35000 Train Loss: 0.025787\n"
     ]
    },
    {
     "name": "stderr",
     "output_type": "stream",
     "text": [
      "10it [00:04,  2.17it/s]\n",
      "200it [00:15, 12.94it/s]\n",
      "50it [00:02, 19.25it/s]Clipping input data to the valid range for imshow with RGB data ([0..1] for floats or [0..255] for integers).\n"
     ]
    },
    {
     "name": "stdout",
     "output_type": "stream",
     "text": [
      "Epoch 176 Global Step 35250 Train Loss: 0.025386\n"
     ]
    },
    {
     "name": "stderr",
     "output_type": "stream",
     "text": [
      "10it [00:04,  2.17it/s]\n",
      "200it [00:15, 13.01it/s]\n",
      "100it [00:05, 19.30it/s]Clipping input data to the valid range for imshow with RGB data ([0..1] for floats or [0..255] for integers).\n"
     ]
    },
    {
     "name": "stdout",
     "output_type": "stream",
     "text": [
      "Epoch 177 Global Step 35500 Train Loss: 0.025969\n"
     ]
    },
    {
     "name": "stderr",
     "output_type": "stream",
     "text": [
      "10it [00:04,  2.16it/s]\n",
      "200it [00:15, 12.97it/s]\n",
      "150it [00:07, 19.37it/s]Clipping input data to the valid range for imshow with RGB data ([0..1] for floats or [0..255] for integers).\n"
     ]
    },
    {
     "name": "stdout",
     "output_type": "stream",
     "text": [
      "Epoch 178 Global Step 35750 Train Loss: 0.025468\n"
     ]
    },
    {
     "name": "stderr",
     "output_type": "stream",
     "text": [
      "10it [00:04,  2.17it/s]\n",
      "200it [00:15, 13.04it/s]\n",
      "200it [00:10, 19.15it/s]\n",
      "0it [00:00, ?it/s]Clipping input data to the valid range for imshow with RGB data ([0..1] for floats or [0..255] for integers).\n"
     ]
    },
    {
     "name": "stdout",
     "output_type": "stream",
     "text": [
      "Epoch 180 Global Step 36000 Train Loss: 0.026510\n"
     ]
    },
    {
     "name": "stderr",
     "output_type": "stream",
     "text": [
      "10it [00:04,  2.17it/s]\n",
      "200it [00:15, 13.03it/s]\n",
      "50it [00:02, 19.22it/s]Clipping input data to the valid range for imshow with RGB data ([0..1] for floats or [0..255] for integers).\n"
     ]
    },
    {
     "name": "stdout",
     "output_type": "stream",
     "text": [
      "Epoch 181 Global Step 36250 Train Loss: 0.025711\n"
     ]
    },
    {
     "name": "stderr",
     "output_type": "stream",
     "text": [
      "10it [00:04,  2.17it/s]\n",
      "200it [00:15, 12.99it/s]\n",
      "100it [00:05, 19.34it/s]Clipping input data to the valid range for imshow with RGB data ([0..1] for floats or [0..255] for integers).\n"
     ]
    },
    {
     "name": "stdout",
     "output_type": "stream",
     "text": [
      "Epoch 182 Global Step 36500 Train Loss: 0.025651\n"
     ]
    },
    {
     "name": "stderr",
     "output_type": "stream",
     "text": [
      "10it [00:04,  2.17it/s]\n",
      "200it [00:15, 13.02it/s]\n",
      "150it [00:07, 19.30it/s]Clipping input data to the valid range for imshow with RGB data ([0..1] for floats or [0..255] for integers).\n"
     ]
    },
    {
     "name": "stdout",
     "output_type": "stream",
     "text": [
      "Epoch 183 Global Step 36750 Train Loss: 0.025436\n"
     ]
    },
    {
     "name": "stderr",
     "output_type": "stream",
     "text": [
      "10it [00:04,  2.17it/s]\n",
      "200it [00:15, 12.92it/s]\n",
      "200it [00:10, 19.28it/s]\n",
      "0it [00:00, ?it/s]Clipping input data to the valid range for imshow with RGB data ([0..1] for floats or [0..255] for integers).\n"
     ]
    },
    {
     "name": "stdout",
     "output_type": "stream",
     "text": [
      "Epoch 185 Global Step 37000 Train Loss: 0.025793\n"
     ]
    },
    {
     "name": "stderr",
     "output_type": "stream",
     "text": [
      "10it [00:04,  2.17it/s]\n",
      "200it [00:15, 13.02it/s]\n",
      "50it [00:02, 19.35it/s]Clipping input data to the valid range for imshow with RGB data ([0..1] for floats or [0..255] for integers).\n"
     ]
    },
    {
     "name": "stdout",
     "output_type": "stream",
     "text": [
      "Epoch 186 Global Step 37250 Train Loss: 0.025404\n"
     ]
    },
    {
     "name": "stderr",
     "output_type": "stream",
     "text": [
      "10it [00:04,  2.17it/s]\n",
      "200it [00:15, 13.03it/s]\n",
      "100it [00:05, 19.34it/s]Clipping input data to the valid range for imshow with RGB data ([0..1] for floats or [0..255] for integers).\n"
     ]
    },
    {
     "name": "stdout",
     "output_type": "stream",
     "text": [
      "Epoch 187 Global Step 37500 Train Loss: 0.024824\n"
     ]
    },
    {
     "name": "stderr",
     "output_type": "stream",
     "text": [
      "10it [00:04,  2.17it/s]\n",
      "200it [00:15, 12.94it/s]\n",
      "150it [00:07, 19.25it/s]Clipping input data to the valid range for imshow with RGB data ([0..1] for floats or [0..255] for integers).\n"
     ]
    },
    {
     "name": "stdout",
     "output_type": "stream",
     "text": [
      "Epoch 188 Global Step 37750 Train Loss: 0.026706\n"
     ]
    },
    {
     "name": "stderr",
     "output_type": "stream",
     "text": [
      "10it [00:04,  2.17it/s]\n",
      "200it [00:15, 12.99it/s]\n",
      "200it [00:10, 19.21it/s]\n",
      "0it [00:00, ?it/s]Clipping input data to the valid range for imshow with RGB data ([0..1] for floats or [0..255] for integers).\n"
     ]
    },
    {
     "name": "stdout",
     "output_type": "stream",
     "text": [
      "Epoch 190 Global Step 38000 Train Loss: 0.025768\n"
     ]
    },
    {
     "name": "stderr",
     "output_type": "stream",
     "text": [
      "10it [00:04,  2.17it/s]\n",
      "200it [00:15, 13.04it/s]\n",
      "50it [00:02, 19.15it/s]Clipping input data to the valid range for imshow with RGB data ([0..1] for floats or [0..255] for integers).\n"
     ]
    },
    {
     "name": "stdout",
     "output_type": "stream",
     "text": [
      "Epoch 191 Global Step 38250 Train Loss: 0.025904\n"
     ]
    },
    {
     "name": "stderr",
     "output_type": "stream",
     "text": [
      "10it [00:04,  2.17it/s]\n",
      "200it [00:15, 13.02it/s]\n",
      "100it [00:05, 19.39it/s]Clipping input data to the valid range for imshow with RGB data ([0..1] for floats or [0..255] for integers).\n"
     ]
    },
    {
     "name": "stdout",
     "output_type": "stream",
     "text": [
      "Epoch 192 Global Step 38500 Train Loss: 0.026207\n"
     ]
    },
    {
     "name": "stderr",
     "output_type": "stream",
     "text": [
      "10it [00:04,  2.17it/s]\n",
      "200it [00:15, 12.93it/s]\n",
      "150it [00:07, 19.09it/s]Clipping input data to the valid range for imshow with RGB data ([0..1] for floats or [0..255] for integers).\n"
     ]
    },
    {
     "name": "stdout",
     "output_type": "stream",
     "text": [
      "Epoch 193 Global Step 38750 Train Loss: 0.025763\n"
     ]
    },
    {
     "name": "stderr",
     "output_type": "stream",
     "text": [
      "10it [00:04,  2.17it/s]\n",
      "200it [00:15, 13.01it/s]\n",
      "200it [00:10, 19.29it/s]\n",
      "0it [00:00, ?it/s]Clipping input data to the valid range for imshow with RGB data ([0..1] for floats or [0..255] for integers).\n"
     ]
    },
    {
     "name": "stdout",
     "output_type": "stream",
     "text": [
      "Epoch 195 Global Step 39000 Train Loss: 0.025877\n"
     ]
    },
    {
     "name": "stderr",
     "output_type": "stream",
     "text": [
      "10it [00:04,  2.17it/s]\n",
      "200it [00:15, 13.07it/s]\n",
      "50it [00:02, 19.45it/s]Clipping input data to the valid range for imshow with RGB data ([0..1] for floats or [0..255] for integers).\n"
     ]
    },
    {
     "name": "stdout",
     "output_type": "stream",
     "text": [
      "Epoch 196 Global Step 39250 Train Loss: 0.025591\n"
     ]
    },
    {
     "name": "stderr",
     "output_type": "stream",
     "text": [
      "10it [00:04,  2.17it/s]\n",
      "200it [00:15, 12.93it/s]\n",
      "100it [00:05, 19.09it/s]Clipping input data to the valid range for imshow with RGB data ([0..1] for floats or [0..255] for integers).\n"
     ]
    },
    {
     "name": "stdout",
     "output_type": "stream",
     "text": [
      "Epoch 197 Global Step 39500 Train Loss: 0.025228\n"
     ]
    },
    {
     "name": "stderr",
     "output_type": "stream",
     "text": [
      "10it [00:04,  2.16it/s]\n",
      "200it [00:15, 13.02it/s]\n",
      "150it [00:07, 19.40it/s]Clipping input data to the valid range for imshow with RGB data ([0..1] for floats or [0..255] for integers).\n"
     ]
    },
    {
     "name": "stdout",
     "output_type": "stream",
     "text": [
      "Epoch 198 Global Step 39750 Train Loss: 0.024994\n"
     ]
    },
    {
     "name": "stderr",
     "output_type": "stream",
     "text": [
      "10it [00:04,  2.17it/s]\n",
      "200it [00:15, 13.04it/s]\n",
      "200it [00:10, 19.32it/s]\n"
     ]
    }
   ],
   "source": [
    "from train import train\n",
    "train_loss, losses, model = train()"
   ]
  },
  {
   "cell_type": "code",
   "execution_count": 5,
   "metadata": {},
   "outputs": [
    {
     "ename": "TypeError",
     "evalue": "get_loader() got an unexpected keyword argument 'blur'",
     "output_type": "error",
     "traceback": [
      "\u001b[0;31m---------------------------------------------------------------------------\u001b[0m",
      "\u001b[0;31mTypeError\u001b[0m                                 Traceback (most recent call last)",
      "\u001b[0;32m/tmp/ipykernel_27003/64988776.py\u001b[0m in \u001b[0;36m<module>\u001b[0;34m\u001b[0m\n\u001b[1;32m      4\u001b[0m \u001b[0;32mimport\u001b[0m \u001b[0mnumpy\u001b[0m \u001b[0;32mas\u001b[0m \u001b[0mnp\u001b[0m\u001b[0;34m\u001b[0m\u001b[0;34m\u001b[0m\u001b[0m\n\u001b[1;32m      5\u001b[0m \u001b[0;32mimport\u001b[0m \u001b[0mmatplotlib\u001b[0m\u001b[0;34m.\u001b[0m\u001b[0mpyplot\u001b[0m \u001b[0;32mas\u001b[0m \u001b[0mplt\u001b[0m\u001b[0;34m\u001b[0m\u001b[0;34m\u001b[0m\u001b[0m\n\u001b[0;32m----> 6\u001b[0;31m \u001b[0mloader\u001b[0m \u001b[0;34m=\u001b[0m \u001b[0mget_loader\u001b[0m\u001b[0;34m(\u001b[0m\u001b[0mtotal_samples\u001b[0m\u001b[0;34m=\u001b[0m\u001b[0;36m2\u001b[0m\u001b[0;34m,\u001b[0m \u001b[0mdataset\u001b[0m\u001b[0;34m=\u001b[0m\u001b[0;34m\"color_shapes\"\u001b[0m\u001b[0;34m,\u001b[0m \u001b[0mblur\u001b[0m\u001b[0;34m=\u001b[0m\u001b[0;36m.8\u001b[0m\u001b[0;34m,\u001b[0m \u001b[0mdeletions\u001b[0m\u001b[0;34m=\u001b[0m\u001b[0;36m0\u001b[0m\u001b[0;34m,\u001b[0m \u001b[0mbatch_size\u001b[0m\u001b[0;34m=\u001b[0m\u001b[0;36m1\u001b[0m\u001b[0;34m)\u001b[0m\u001b[0;34m\u001b[0m\u001b[0;34m\u001b[0m\u001b[0m\n\u001b[0m\u001b[1;32m      7\u001b[0m \u001b[0;32mfrom\u001b[0m \u001b[0mparameters\u001b[0m \u001b[0;32mimport\u001b[0m \u001b[0mparameters\u001b[0m\u001b[0;34m\u001b[0m\u001b[0;34m\u001b[0m\u001b[0m\n\u001b[1;32m      8\u001b[0m \u001b[0mparameters\u001b[0m\u001b[0;34m.\u001b[0m\u001b[0mgaussian_noise\u001b[0m \u001b[0;34m=\u001b[0m \u001b[0;36m.4\u001b[0m \u001b[0;34m/\u001b[0m \u001b[0;36m256\u001b[0m\u001b[0;34m\u001b[0m\u001b[0;34m\u001b[0m\u001b[0m\n",
      "\u001b[0;31mTypeError\u001b[0m: get_loader() got an unexpected keyword argument 'blur'"
     ]
    }
   ],
   "source": [
    "%matplotlib inline\n",
    "from data import get_loader\n",
    "import torch\n",
    "import numpy as np\n",
    "import matplotlib.pyplot as plt\n",
    "loader = get_loader(total_samples=2, dataset=\"color_shapes\", deletions=0, batch_size=1)\n",
    "from parameters import parameters\n",
    "parameters.gaussian_noise = .4 / 256\n",
    "\n",
    "def plot_hist(x):\n",
    "    plt.plot(np.linspace(x.min().cpu().detach().numpy(), x.max().cpu().detach().numpy(), 100), torch.histc(x).cpu().detach().numpy())\n",
    "\n",
    "for iter, x in enumerate(loader):\n",
    "    x = x[0].to(torch.device(\"cuda\"))\n",
    "    model.eval()\n",
    "    out = model(x, epoch=1000)\n",
    "    #plot_hist(out[\"input\"])\n",
    "    #plot_hist(out[\"noisy\"])\n",
    "    \n",
    "    encoded = out[\"encoded\"]\n",
    "    discrete = out[\"discrete\"]\n",
    "    decoded_true = out[\"decoded\"]\n",
    "    noisy = out[\"noisy\"]\n",
    "    change_index = np.array([0])\n",
    "    change_index_inverse = change_index + 1 - 2 * (change_index % 2)\n",
    "    change_index = np.concatenate([change_index, change_index_inverse])\n",
    "    discrete[0][change_index] = 1 - discrete[0][change_index]\n",
    "    decoded = model.decoder(discrete)\n",
    "\n",
    "    x = torch.permute(x, (0,2,3,1))\n",
    "    decoded = torch.permute(decoded, (0,2,3,1))\n",
    "    decoded_true = torch.permute(decoded_true, (0,2,3,1))\n",
    "\n",
    "    from util import show_mnist_images\n",
    "    fig, axes = plt.subplots(nrows=1, ncols=3)\n",
    "    axes[0].imshow(x.cpu().detach().numpy()[0])\n",
    "    axes[1].imshow(decoded_true.cpu().detach().numpy()[0])\n",
    "    axes[2].imshow(decoded.cpu().detach().numpy()[0])\n",
    "    plt.figure()\n",
    "# discrete"
   ]
  },
  {
   "cell_type": "code",
   "execution_count": 4,
   "metadata": {},
   "outputs": [
    {
     "name": "stderr",
     "output_type": "stream",
     "text": [
      "200it [01:36,  2.07it/s]"
     ]
    },
    {
     "name": "stdout",
     "output_type": "stream",
     "text": [
      "17\n"
     ]
    },
    {
     "name": "stderr",
     "output_type": "stream",
     "text": [
      "\n"
     ]
    }
   ],
   "source": [
    "import torch\n",
    "from tqdm import tqdm\n",
    "\n",
    "from model import StateAE\n",
    "from data import get_loader\n",
    "from parameters import parameters\n",
    "from util import set_manual_seed\n",
    "\n",
    "def evaluate_sae(model: StateAE, samples: int = 100):\n",
    "    usecuda = torch.cuda.is_available() and not parameters['no_cuda']\n",
    "    loader = get_loader(\n",
    "        dataset=\"color_shapes\",\n",
    "        deletions=parameters.deletions,\n",
    "        total_samples=samples,\n",
    "        batch_size=parameters.batch_size,\n",
    "        usecuda=usecuda\n",
    "    )\n",
    "\n",
    "    set_manual_seed()\n",
    "    model.eval()\n",
    "    with torch.no_grad():\n",
    "        # Effective bits - Tensor to save the sum of all propositions\n",
    "        discrete_usage = torch.zeros(parameters.latent_size).to(f\"cuda:{parameters.device_ids[0]}\")\n",
    "        for i, sample in tqdm(enumerate(loader)):\n",
    "            # State variance over bits ([1] 6.1)\n",
    "            discrete_tensors = []\n",
    "            for iteration in range(100):\n",
    "                out = model(sample[0].to(f\"cuda:{parameters.device_ids[0]}\"), epoch=10000)\n",
    "                discrete_tensors.append(out[\"discrete\"])\n",
    "            discrete_tensors = torch.stack(discrete_tensors)\n",
    "            bit_variance = discrete_tensors.var(dim=0).mean()\n",
    "\n",
    "            # Effective bits ([1] 6.1)\n",
    "            discrete_usage += out[\"discrete\"][:, ::2].sum(dim=0)\n",
    "        \n",
    "        return {\n",
    "            \"bit_variance\": bit_variance,\n",
    "            \"discrete_usage\": discrete_usage\n",
    "        }\n",
    "\n",
    "metrics = evaluate_sae(model=model, samples=20000)\n",
    "print((metrics[\"discrete_usage\"].cpu().detach().numpy() >= 1.).sum())"
   ]
  }
 ],
 "metadata": {
  "interpreter": {
   "hash": "e926bc823418c448474a8974b2c2aa4c0f7ebfb59bb98328b5791be7eb5e18cd"
  },
  "kernelspec": {
   "display_name": "Python 3.8.12 64-bit ('latplan': conda)",
   "language": "python",
   "name": "python3"
  },
  "language_info": {
   "codemirror_mode": {
    "name": "ipython",
    "version": 3
   },
   "file_extension": ".py",
   "mimetype": "text/x-python",
   "name": "python",
   "nbconvert_exporter": "python",
   "pygments_lexer": "ipython3",
   "version": "3.8.12"
  },
  "orig_nbformat": 4
 },
 "nbformat": 4,
 "nbformat_minor": 2
}
