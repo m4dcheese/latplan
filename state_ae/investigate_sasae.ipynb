{
 "cells": [
  {
   "cell_type": "code",
   "execution_count": 2,
   "metadata": {},
   "outputs": [
    {
     "name": "stdout",
     "output_type": "stream",
     "text": [
      "<All keys matched successfully>\n"
     ]
    },
    {
     "name": "stderr",
     "output_type": "stream",
     "text": [
      "100it [01:23,  1.19it/s]"
     ]
    },
    {
     "name": "stdout",
     "output_type": "stream",
     "text": [
      "2022-04-19_07:30:59\n",
      "0.0056645125\n",
      "0.0011318962\n",
      "tensor(10)\n"
     ]
    },
    {
     "name": "stderr",
     "output_type": "stream",
     "text": [
      "\n"
     ]
    }
   ],
   "source": [
    "from slot_attention_state_ae import DiscreteSlotAttention_model\n",
    "from parameters import parameters\n",
    "import torch\n",
    "from metrics import evaluate_dsa_per_slot\n",
    "\n",
    "paths = [\n",
    "    \"2022-04-19_07:30:59\"\n",
    "]\n",
    "\n",
    "for path in paths:\n",
    "    loaded = torch.load(f\"/home/madcheese/models/sasae/{path}\", map_location=\"cuda:0\")\n",
    "\n",
    "    net = DiscreteSlotAttention_model(\n",
    "        parameters.slots,\n",
    "        parameters.slot_iters,\n",
    "        0,\n",
    "        encoder_hidden_channels=parameters.encoder_hidden_channels,\n",
    "        attention_hidden_channels=parameters.attention_hidden_channels,\n",
    "        decoder_hidden_channels=parameters.decoder_hidden_channels,\n",
    "        discretize=True\n",
    "    )\n",
    "    net = torch.nn.DataParallel(net, device_ids=[0])\n",
    "    print(net.load_state_dict(loaded[\"weights\"], strict=True))\n",
    "    model=net.to(f\"cuda:{parameters.device_ids[0]}\")\n",
    "    model.eval()\n",
    "    with torch.no_grad():\n",
    "        metrics = evaluate_dsa_per_slot(model, samples=1000)\n",
    "    print(path)\n",
    "    print(metrics[\"bit_variance\"])\n",
    "    print(metrics[\"reconstruction_error\"])\n",
    "    print((metrics[\"discrete_usage\"] > 0).sum())\n"
   ]
  },
  {
   "cell_type": "code",
   "execution_count": 1,
   "metadata": {},
   "outputs": [
    {
     "name": "stdout",
     "output_type": "stream",
     "text": [
      "<All keys matched successfully>\n"
     ]
    },
    {
     "name": "stderr",
     "output_type": "stream",
     "text": [
      "100it [00:20,  4.92it/s]\n"
     ]
    },
    {
     "name": "stdout",
     "output_type": "stream",
     "text": [
      "2022-04-06_19:33:23\n",
      "0.0035464356\n",
      "0.0002882525\n",
      "tensor(16)\n",
      "<All keys matched successfully>\n"
     ]
    },
    {
     "name": "stderr",
     "output_type": "stream",
     "text": [
      "100it [00:20,  4.93it/s]\n"
     ]
    },
    {
     "name": "stdout",
     "output_type": "stream",
     "text": [
      "2022-04-07_07:31:26\n",
      "0.0034086118\n",
      "0.00035831283\n",
      "tensor(16)\n",
      "<All keys matched successfully>\n"
     ]
    },
    {
     "name": "stderr",
     "output_type": "stream",
     "text": [
      "100it [00:20,  4.91it/s]\n"
     ]
    },
    {
     "name": "stdout",
     "output_type": "stream",
     "text": [
      "2022-04-07_22:35:02\n",
      "0.0045243986\n",
      "0.00014379075\n",
      "tensor(16)\n",
      "<All keys matched successfully>\n"
     ]
    },
    {
     "name": "stderr",
     "output_type": "stream",
     "text": [
      "100it [00:20,  4.90it/s]\n"
     ]
    },
    {
     "name": "stdout",
     "output_type": "stream",
     "text": [
      "2022-04-08_07:45:49\n",
      "0.0040015285\n",
      "0.00018693825\n",
      "tensor(16)\n",
      "<All keys matched successfully>\n"
     ]
    },
    {
     "name": "stderr",
     "output_type": "stream",
     "text": [
      "100it [00:20,  4.89it/s]\n"
     ]
    },
    {
     "name": "stdout",
     "output_type": "stream",
     "text": [
      "2022-04-09_03:47:06\n",
      "0.0046164817\n",
      "0.00035485422\n",
      "tensor(16)\n",
      "<All keys matched successfully>\n"
     ]
    },
    {
     "name": "stderr",
     "output_type": "stream",
     "text": [
      "100it [00:20,  4.85it/s]\n"
     ]
    },
    {
     "name": "stdout",
     "output_type": "stream",
     "text": [
      "2022-04-09_20:26:13\n",
      "0.0040099537\n",
      "0.00031265806\n",
      "tensor(16)\n",
      "<All keys matched successfully>\n"
     ]
    },
    {
     "name": "stderr",
     "output_type": "stream",
     "text": [
      "100it [00:20,  4.84it/s]\n"
     ]
    },
    {
     "name": "stdout",
     "output_type": "stream",
     "text": [
      "2022-04-12_22:29:56\n",
      "0.0037736117\n",
      "0.00023336528\n",
      "tensor(16)\n",
      "<All keys matched successfully>\n"
     ]
    },
    {
     "name": "stderr",
     "output_type": "stream",
     "text": [
      "100it [00:20,  4.82it/s]\n"
     ]
    },
    {
     "name": "stdout",
     "output_type": "stream",
     "text": [
      "2022-04-13_08:28:11\n",
      "0.004708148\n",
      "0.00026689537\n",
      "tensor(16)\n",
      "<All keys matched successfully>\n"
     ]
    },
    {
     "name": "stderr",
     "output_type": "stream",
     "text": [
      "100it [00:20,  4.80it/s]"
     ]
    },
    {
     "name": "stdout",
     "output_type": "stream",
     "text": [
      "2022-04-13_17:29:55\n",
      "0.004998658\n",
      "0.00029707537\n",
      "tensor(16)\n"
     ]
    },
    {
     "name": "stderr",
     "output_type": "stream",
     "text": [
      "\n"
     ]
    }
   ],
   "source": [
    "from slot_attention_state_ae import DiscreteSlotAttention_model\n",
    "from parameters import parameters\n",
    "import torch\n",
    "from metrics import evaluate_dsa_per_slot\n",
    "\n",
    "paths = [\n",
    "    \"2022-04-06_19:33:23\",\n",
    "    \"2022-04-07_07:31:26\",\n",
    "    \"2022-04-07_22:35:02\",\n",
    "    \"2022-04-08_07:45:49\",\n",
    "    \"2022-04-09_03:47:06\",\n",
    "    \"2022-04-09_20:26:13\",\n",
    "    \"2022-04-12_22:29:56\",\n",
    "    \"2022-04-13_08:28:11\",\n",
    "    \"2022-04-13_17:29:55\",\n",
    "]\n",
    "\n",
    "for path in paths:\n",
    "    loaded = torch.load(f\"/home/madcheese/models/sasae/{path}\", map_location=\"cuda:0\")\n",
    "\n",
    "    net = DiscreteSlotAttention_model(\n",
    "        parameters.slots,\n",
    "        parameters.slot_iters,\n",
    "        0,\n",
    "        encoder_hidden_channels=parameters.encoder_hidden_channels,\n",
    "        attention_hidden_channels=parameters.attention_hidden_channels,\n",
    "        decoder_hidden_channels=parameters.decoder_hidden_channels,\n",
    "        discretize=True\n",
    "    )\n",
    "    net = torch.nn.DataParallel(net, device_ids=[0])\n",
    "    print(net.load_state_dict(loaded[\"weights\"], strict=True))\n",
    "    model=net.to(f\"cuda:{parameters.device_ids[0]}\")\n",
    "    model.eval()\n",
    "    with torch.no_grad():\n",
    "        metrics = evaluate_dsa_per_slot(model, samples=1000)\n",
    "    print(path)\n",
    "    print(metrics[\"bit_variance\"])\n",
    "    print(metrics[\"reconstruction_error\"])\n",
    "    print((metrics[\"discrete_usage\"] > 0).sum())\n"
   ]
  }
 ],
 "metadata": {
  "interpreter": {
   "hash": "e926bc823418c448474a8974b2c2aa4c0f7ebfb59bb98328b5791be7eb5e18cd"
  },
  "kernelspec": {
   "display_name": "Python 3.8.12 64-bit ('latplan': conda)",
   "language": "python",
   "name": "python3"
  },
  "language_info": {
   "codemirror_mode": {
    "name": "ipython",
    "version": 3
   },
   "file_extension": ".py",
   "mimetype": "text/x-python",
   "name": "python",
   "nbconvert_exporter": "python",
   "pygments_lexer": "ipython3",
   "version": "3.8.12"
  },
  "orig_nbformat": 4
 },
 "nbformat": 4,
 "nbformat_minor": 2
}
