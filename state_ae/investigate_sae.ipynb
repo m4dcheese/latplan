{
 "cells": [
  {
   "cell_type": "code",
   "execution_count": 3,
   "metadata": {},
   "outputs": [
    {
     "name": "stdout",
     "output_type": "stream",
     "text": [
      "<All keys matched successfully>\n"
     ]
    },
    {
     "name": "stderr",
     "output_type": "stream",
     "text": [
      "100it [00:07, 12.76it/s]\n"
     ]
    },
    {
     "name": "stdout",
     "output_type": "stream",
     "text": [
      "SAE_paper_paper_0.05_360\n",
      "2.7777776e-09\n",
      "0.00035639224\n",
      "tensor(61)\n",
      "<All keys matched successfully>\n"
     ]
    },
    {
     "name": "stderr",
     "output_type": "stream",
     "text": [
      "100it [00:07, 12.91it/s]\n"
     ]
    },
    {
     "name": "stdout",
     "output_type": "stream",
     "text": [
      "SAE_paper_paper_0.1_360\n",
      "0.0\n",
      "0.00035837505\n",
      "tensor(50)\n",
      "<All keys matched successfully>\n"
     ]
    },
    {
     "name": "stderr",
     "output_type": "stream",
     "text": [
      "100it [00:08, 12.25it/s]\n"
     ]
    },
    {
     "name": "stdout",
     "output_type": "stream",
     "text": [
      "SAE_paper_paper_0.2_360\n",
      "0.0\n",
      "0.00049253355\n",
      "tensor(44)\n",
      "<All keys matched successfully>\n"
     ]
    },
    {
     "name": "stderr",
     "output_type": "stream",
     "text": [
      "100it [00:07, 12.88it/s]\n"
     ]
    },
    {
     "name": "stdout",
     "output_type": "stream",
     "text": [
      "SAE_paper_paper_0.3_360\n",
      "0.0\n",
      "0.0018529114\n",
      "tensor(38)\n",
      "<All keys matched successfully>\n"
     ]
    },
    {
     "name": "stderr",
     "output_type": "stream",
     "text": [
      "100it [00:07, 12.91it/s]\n"
     ]
    },
    {
     "name": "stdout",
     "output_type": "stream",
     "text": [
      "SAE_paper_paper_0.03_360\n",
      "5.412737e-07\n",
      "0.0003213996\n",
      "tensor(74)\n",
      "<All keys matched successfully>\n"
     ]
    },
    {
     "name": "stderr",
     "output_type": "stream",
     "text": [
      "100it [00:08, 12.38it/s]\n"
     ]
    },
    {
     "name": "stdout",
     "output_type": "stream",
     "text": [
      "SAE_paper_paper_0.03_360_run2\n",
      "2.7777776e-09\n",
      "0.00037025756\n",
      "tensor(71)\n",
      "<All keys matched successfully>\n"
     ]
    },
    {
     "name": "stderr",
     "output_type": "stream",
     "text": [
      "100it [00:07, 12.83it/s]\n"
     ]
    },
    {
     "name": "stdout",
     "output_type": "stream",
     "text": [
      "SAE_paper_paper_0.03_360_run3\n",
      "0.0\n",
      "0.00037232225\n",
      "tensor(69)\n",
      "<All keys matched successfully>\n"
     ]
    },
    {
     "name": "stderr",
     "output_type": "stream",
     "text": [
      "100it [00:07, 12.92it/s]\n"
     ]
    },
    {
     "name": "stdout",
     "output_type": "stream",
     "text": [
      "SAE_paper_paper_0.05_360\n",
      "0.0\n",
      "0.0003582529\n",
      "tensor(61)\n",
      "<All keys matched successfully>\n"
     ]
    },
    {
     "name": "stderr",
     "output_type": "stream",
     "text": [
      "100it [00:08, 12.25it/s]\n"
     ]
    },
    {
     "name": "stdout",
     "output_type": "stream",
     "text": [
      "SAE_paper_paper_0.1_360\n",
      "1.5824916e-08\n",
      "0.00035754577\n",
      "tensor(50)\n",
      "<All keys matched successfully>\n"
     ]
    },
    {
     "name": "stderr",
     "output_type": "stream",
     "text": [
      "100it [00:08, 12.49it/s]\n"
     ]
    },
    {
     "name": "stdout",
     "output_type": "stream",
     "text": [
      "SAE_paper_paper_0.2_360\n",
      "0.0\n",
      "0.00049745734\n",
      "tensor(44)\n",
      "<All keys matched successfully>\n"
     ]
    },
    {
     "name": "stderr",
     "output_type": "stream",
     "text": [
      "100it [00:07, 12.90it/s]\n"
     ]
    },
    {
     "name": "stdout",
     "output_type": "stream",
     "text": [
      "SAE_paper_paper_0.2_360_run2\n",
      "0.0\n",
      "0.0005100077\n",
      "tensor(44)\n",
      "<All keys matched successfully>\n"
     ]
    },
    {
     "name": "stderr",
     "output_type": "stream",
     "text": [
      "100it [00:08, 12.27it/s]\n"
     ]
    },
    {
     "name": "stdout",
     "output_type": "stream",
     "text": [
      "SAE_paper_paper_0.2_360_run3\n",
      "1.0774411e-08\n",
      "0.0005345236\n",
      "tensor(44)\n",
      "<All keys matched successfully>\n"
     ]
    },
    {
     "name": "stderr",
     "output_type": "stream",
     "text": [
      "100it [00:07, 12.64it/s]\n"
     ]
    },
    {
     "name": "stdout",
     "output_type": "stream",
     "text": [
      "SAE_paper_paper_0.3_360\n",
      "0.0\n",
      "0.0018481906\n",
      "tensor(38)\n",
      "<All keys matched successfully>\n"
     ]
    },
    {
     "name": "stderr",
     "output_type": "stream",
     "text": [
      "100it [00:07, 12.88it/s]\n"
     ]
    },
    {
     "name": "stdout",
     "output_type": "stream",
     "text": [
      "SAE_paper_paper_0.3_360_run2\n",
      "0.0\n",
      "0.0009574589\n",
      "tensor(39)\n",
      "<All keys matched successfully>\n"
     ]
    },
    {
     "name": "stderr",
     "output_type": "stream",
     "text": [
      "100it [00:08, 12.35it/s]\n"
     ]
    },
    {
     "name": "stdout",
     "output_type": "stream",
     "text": [
      "SAE_paper_paper_0.3_360_run3\n",
      "2.2979798e-08\n",
      "0.0018667857\n",
      "tensor(37)\n",
      "<All keys matched successfully>\n"
     ]
    },
    {
     "name": "stderr",
     "output_type": "stream",
     "text": [
      "100it [00:07, 12.65it/s]\n"
     ]
    },
    {
     "name": "stdout",
     "output_type": "stream",
     "text": [
      "SAE_paper_paper_0.4_360\n",
      "0.0\n",
      "0.0038703869\n",
      "tensor(34)\n",
      "<All keys matched successfully>\n"
     ]
    },
    {
     "name": "stderr",
     "output_type": "stream",
     "text": [
      "100it [00:07, 12.79it/s]\n"
     ]
    },
    {
     "name": "stdout",
     "output_type": "stream",
     "text": [
      "SAE_paper_paper_0.4_360_run2\n",
      "2.7777776e-09\n",
      "0.0043303785\n",
      "tensor(33)\n",
      "<All keys matched successfully>\n"
     ]
    },
    {
     "name": "stderr",
     "output_type": "stream",
     "text": [
      "100it [00:08, 12.25it/s]"
     ]
    },
    {
     "name": "stdout",
     "output_type": "stream",
     "text": [
      "SAE_paper_paper_0.4_360_run3\n",
      "0.0\n",
      "0.0026172837\n",
      "tensor(37)\n"
     ]
    },
    {
     "name": "stderr",
     "output_type": "stream",
     "text": [
      "\n"
     ]
    }
   ],
   "source": [
    "from model import StateAE\n",
    "from parameters import parameters\n",
    "import torch\n",
    "from metrics import evaluate_sae\n",
    "\n",
    "paths = [\n",
    "    \"SAE_paper_paper_0.05_360\",\n",
    "    \"SAE_paper_paper_0.1_360\",\n",
    "    \"SAE_paper_paper_0.2_360\",\n",
    "    \"SAE_paper_paper_0.3_360\",\n",
    "    \"SAE_paper_paper_0.03_360\",\n",
    "    \"SAE_paper_paper_0.03_360_run2\",\n",
    "    \"SAE_paper_paper_0.03_360_run3\",\n",
    "    \"SAE_paper_paper_0.05_360\",\n",
    "    \"SAE_paper_paper_0.1_360\",\n",
    "    \"SAE_paper_paper_0.2_360\",\n",
    "    \"SAE_paper_paper_0.2_360_run2\",\n",
    "    \"SAE_paper_paper_0.2_360_run3\",\n",
    "    \"SAE_paper_paper_0.3_360\",\n",
    "    \"SAE_paper_paper_0.3_360_run2\",\n",
    "    \"SAE_paper_paper_0.3_360_run3\",\n",
    "    \"SAE_paper_paper_0.4_360\",\n",
    "    \"SAE_paper_paper_0.4_360_run2\",\n",
    "    \"SAE_paper_paper_0.4_360_run3\",\n",
    "]\n",
    "\n",
    "for path in paths:\n",
    "    loaded = torch.load(f\"/home/madcheese/models/sae_benchmark/{path}\", map_location=\"cuda:0\")\n",
    "\n",
    "    net = StateAE(\n",
    "        device=f\"cuda:{parameters.device_ids[0]}\"\n",
    "    )\n",
    "    net = torch.nn.DataParallel(net, device_ids=[0])\n",
    "    print(net.load_state_dict(loaded[\"weights\"], strict=True))\n",
    "    model=net.to(f\"cuda:{parameters.device_ids[0]}\")\n",
    "    model.eval()\n",
    "    with torch.no_grad():\n",
    "        metrics = evaluate_sae(model, samples=10000)\n",
    "    print(path)\n",
    "    print(metrics[\"bit_variance\"])\n",
    "    print(metrics[\"reconstruction_error\"])\n",
    "    print((metrics[\"discrete_usage\"] > 0).sum())\n"
   ]
  },
  {
   "cell_type": "code",
   "execution_count": null,
   "metadata": {},
   "outputs": [
    {
     "name": "stderr",
     "output_type": "stream",
     "text": [
      "100it [00:31,  3.18it/s]\n"
     ]
    },
    {
     "name": "stdout",
     "output_type": "stream",
     "text": [
      "SAE_root_increase_0.01_run3\n",
      "0.0\n",
      "0.0003576806\n",
      "tensor(77)\n"
     ]
    },
    {
     "name": "stderr",
     "output_type": "stream",
     "text": [
      "100it [00:31,  3.18it/s]\n"
     ]
    },
    {
     "name": "stdout",
     "output_type": "stream",
     "text": [
      "SAE_root_increase_0.03_run3\n",
      "0.0\n",
      "0.00038019475\n",
      "tensor(62)\n"
     ]
    },
    {
     "name": "stderr",
     "output_type": "stream",
     "text": [
      "100it [00:31,  3.17it/s]\n"
     ]
    },
    {
     "name": "stdout",
     "output_type": "stream",
     "text": [
      "SAE_root_increase_0.05_run3\n",
      "0.0\n",
      "0.0003681261\n",
      "tensor(64)\n"
     ]
    },
    {
     "name": "stderr",
     "output_type": "stream",
     "text": [
      "100it [00:31,  3.15it/s]\n"
     ]
    },
    {
     "name": "stdout",
     "output_type": "stream",
     "text": [
      "SAE_root_increase_0.07_run3\n",
      "0.0\n",
      "0.00039469276\n",
      "tensor(60)\n"
     ]
    },
    {
     "name": "stderr",
     "output_type": "stream",
     "text": [
      "100it [00:31,  3.17it/s]\n"
     ]
    },
    {
     "name": "stdout",
     "output_type": "stream",
     "text": [
      "SAE_root_increase_0.1_run3\n",
      "0.0\n",
      "0.00039854075\n",
      "tensor(55)\n"
     ]
    },
    {
     "name": "stderr",
     "output_type": "stream",
     "text": [
      "100it [00:31,  3.14it/s]\n"
     ]
    },
    {
     "name": "stdout",
     "output_type": "stream",
     "text": [
      "SAE_root_increase_0.2_run3\n",
      "1.1507007e-07\n",
      "0.01699124\n",
      "tensor(16)\n"
     ]
    },
    {
     "name": "stderr",
     "output_type": "stream",
     "text": [
      "100it [00:31,  3.14it/s]"
     ]
    },
    {
     "name": "stdout",
     "output_type": "stream",
     "text": [
      "SAE_root_increase_0.3_run3\n",
      "0.0\n",
      "0.06017544\n",
      "tensor(0)\n"
     ]
    },
    {
     "name": "stderr",
     "output_type": "stream",
     "text": [
      "\n"
     ]
    }
   ],
   "source": [
    "from model import StateAE\n",
    "from parameters import parameters\n",
    "import torch\n",
    "from metrics import evaluate_sae\n",
    "\n",
    "paths = [\n",
    "    \"SAE_paper_paper_0.2\",\n",
    "]\n",
    "\n",
    "for path in paths:\n",
    "    loaded = torch.load(f\"/home/madcheese/models/sae/{path}\", map_location=\"cuda:0\")\n",
    "\n",
    "    net = StateAE(\n",
    "        device=f\"cuda:{parameters.device_ids[0]}\"\n",
    "    )\n",
    "    net = torch.nn.DataParallel(net, device_ids=[0])\n",
    "    net.load_state_dict(loaded[\"weights\"], strict=True)\n",
    "    model=net.to(f\"cuda:{parameters.device_ids[0]}\")\n",
    "    model.eval()\n",
    "    with torch.no_grad():\n",
    "        metrics = evaluate_sae(model, samples=10000)\n",
    "    print(path)\n",
    "    print(metrics[\"bit_variance\"])\n",
    "    print(metrics[\"reconstruction_error\"])\n",
    "    print((metrics[\"discrete_usage\"] > 0).sum())\n"
   ]
  }
 ],
 "metadata": {
  "interpreter": {
   "hash": "e926bc823418c448474a8974b2c2aa4c0f7ebfb59bb98328b5791be7eb5e18cd"
  },
  "kernelspec": {
   "display_name": "Python 3.8.12 64-bit ('latplan': conda)",
   "language": "python",
   "name": "python3"
  },
  "language_info": {
   "codemirror_mode": {
    "name": "ipython",
    "version": 3
   },
   "file_extension": ".py",
   "mimetype": "text/x-python",
   "name": "python",
   "nbconvert_exporter": "python",
   "pygments_lexer": "ipython3",
   "version": "3.8.12"
  },
  "orig_nbformat": 4
 },
 "nbformat": 4,
 "nbformat_minor": 2
}
